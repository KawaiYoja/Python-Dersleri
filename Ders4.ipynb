{
  "nbformat": 4,
  "nbformat_minor": 0,
  "metadata": {
    "colab": {
      "name": "Ders4.ipynb",
      "provenance": [],
      "authorship_tag": "ABX9TyP1k69VDp1VzWxqJuQg1qGF"
    },
    "kernelspec": {
      "name": "python3",
      "display_name": "Python 3"
    }
  },
  "cells": [
    {
      "cell_type": "code",
      "metadata": {
        "id": "dvDwpBwZCcU_",
        "outputId": "ac4d501d-cdb8-4ad8-cc67-d5f9c8b20ed0",
        "colab": {
          "base_uri": "https://localhost:8080/",
          "height": 68
        }
      },
      "source": [
        "a=input('İlk değeri giriniz...')#5\n",
        "b=input('İkinci değeri giriniz...')#3\n",
        "print(a+b) "
      ],
      "execution_count": null,
      "outputs": [
        {
          "output_type": "stream",
          "text": [
            "İlk değeri giriniz...5\n",
            "İkinci değeri giriniz...3\n",
            "53\n"
          ],
          "name": "stdout"
        }
      ]
    },
    {
      "cell_type": "code",
      "metadata": {
        "id": "7rQedKnxDrZ7",
        "outputId": "b054db1f-423f-462a-a919-f52b390d4d26",
        "colab": {
          "base_uri": "https://localhost:8080/",
          "height": 34
        }
      },
      "source": [
        "liste=['p','y','t','h','o','n']\n",
        "print(liste[1]) #a)p b)y c)Y"
      ],
      "execution_count": null,
      "outputs": [
        {
          "output_type": "stream",
          "text": [
            "y\n"
          ],
          "name": "stdout"
        }
      ]
    },
    {
      "cell_type": "markdown",
      "metadata": {
        "id": "7xPbx9YcEa5S"
      },
      "source": [
        "Döngüler bir bloğun istenilen sayıda çalışmasını sağlar."
      ]
    },
    {
      "cell_type": "code",
      "metadata": {
        "id": "hXiBLqHQXCaH",
        "outputId": "f1e0027e-362b-4bdd-cc06-d7ebd8e12d07",
        "colab": {
          "base_uri": "https://localhost:8080/",
          "height": 102
        }
      },
      "source": [
        "i = 1\n",
        "while i < 6:\n",
        "  print(i)\n",
        "  i += 1 #i=i+1"
      ],
      "execution_count": null,
      "outputs": [
        {
          "output_type": "stream",
          "text": [
            "1\n",
            "2\n",
            "3\n",
            "4\n",
            "5\n"
          ],
          "name": "stdout"
        }
      ]
    },
    {
      "cell_type": "code",
      "metadata": {
        "id": "YS4KPwxwXHwb",
        "outputId": "e315a6bf-25ee-4e16-832e-a5b4b878b93f",
        "colab": {
          "base_uri": "https://localhost:8080/",
          "height": 68
        }
      },
      "source": [
        "i = 1\n",
        "while i < 6:\n",
        "  print(i)\n",
        "  if i == 3:\n",
        "    break #Döngüyü sonlandır....\n",
        "  i += 1"
      ],
      "execution_count": null,
      "outputs": [
        {
          "output_type": "stream",
          "text": [
            "1\n",
            "2\n",
            "3\n"
          ],
          "name": "stdout"
        }
      ]
    },
    {
      "cell_type": "code",
      "metadata": {
        "id": "zYWMvNNpXOON",
        "outputId": "6d21c96e-55bb-4266-9b6b-38e8f8ad7650",
        "colab": {
          "base_uri": "https://localhost:8080/",
          "height": 102
        }
      },
      "source": [
        "i = 0\n",
        "while i < 6:\n",
        "  i += 1 #i=i+1 \n",
        "  if i == 3:\n",
        "    continue #Döngü bir sonraki adıma geçer...\n",
        "  print(i)"
      ],
      "execution_count": null,
      "outputs": [
        {
          "output_type": "stream",
          "text": [
            "1\n",
            "2\n",
            "4\n",
            "5\n",
            "6\n"
          ],
          "name": "stdout"
        }
      ]
    },
    {
      "cell_type": "code",
      "metadata": {
        "id": "qSaNzdqiXTQO",
        "outputId": "09780748-2990-42b4-e8ff-e21e88b29500",
        "colab": {
          "base_uri": "https://localhost:8080/",
          "height": 119
        }
      },
      "source": [
        "i = 1\n",
        "while i < 6:\n",
        "  print(i) #5\n",
        "  i += 1\n",
        "else:\n",
        "  print(\"i, 6'dan küçük değil...\")"
      ],
      "execution_count": null,
      "outputs": [
        {
          "output_type": "stream",
          "text": [
            "1\n",
            "2\n",
            "3\n",
            "4\n",
            "5\n",
            "i, 6'dan küçük değil...\n"
          ],
          "name": "stdout"
        }
      ]
    },
    {
      "cell_type": "code",
      "metadata": {
        "id": "d1pPSZU6XX0z",
        "outputId": "f9251a22-4a3a-4540-d3b2-13bfe2287ded",
        "colab": {
          "base_uri": "https://localhost:8080/",
          "height": 119
        }
      },
      "source": [
        "meyve = [\"elma\", \"muz\", \"çilek\"]\n",
        "i=0\n",
        "while i<3:\n",
        "  print(meyve[i])\n",
        "  i=i+1\n",
        "for x in meyve: # x döngü elemanı\n",
        "  print(x)"
      ],
      "execution_count": null,
      "outputs": [
        {
          "output_type": "stream",
          "text": [
            "elma\n",
            "muz\n",
            "çilek\n",
            "elma\n",
            "muz\n",
            "çilek\n"
          ],
          "name": "stdout"
        }
      ]
    },
    {
      "cell_type": "code",
      "metadata": {
        "id": "TpOAe_52KQ2b",
        "outputId": "2235d540-99cb-4886-d05d-64bb68151fec",
        "colab": {
          "base_uri": "https://localhost:8080/",
          "height": 68
        }
      },
      "source": [
        "meyve = [\"elma\", \"muz\", \"çilek\"]\n",
        "for x in meyve: # x döngü elemanı \n",
        "  print(x[0])"
      ],
      "execution_count": null,
      "outputs": [
        {
          "output_type": "stream",
          "text": [
            "e\n",
            "m\n",
            "ç\n"
          ],
          "name": "stdout"
        }
      ]
    },
    {
      "cell_type": "code",
      "metadata": {
        "id": "sNUXWXDfLNVx",
        "outputId": "b86a4864-18a6-424a-e263-6517b5ef1439",
        "colab": {
          "base_uri": "https://localhost:8080/",
          "height": 221
        }
      },
      "source": [
        "meyve = [\"elma\", \"muz\", \"çilek\"]\n",
        "for x in meyve: \n",
        "  for a in x: \n",
        "    print(a)"
      ],
      "execution_count": null,
      "outputs": [
        {
          "output_type": "stream",
          "text": [
            "e\n",
            "l\n",
            "m\n",
            "a\n",
            "m\n",
            "u\n",
            "z\n",
            "ç\n",
            "i\n",
            "l\n",
            "e\n",
            "k\n"
          ],
          "name": "stdout"
        }
      ]
    },
    {
      "cell_type": "code",
      "metadata": {
        "id": "M0scOF0KXbeX",
        "outputId": "437cdb2b-3ad5-445b-bd9e-4faf45ae7c27",
        "colab": {
          "base_uri": "https://localhost:8080/",
          "height": 85
        }
      },
      "source": [
        "kelime=\"elma\"\n",
        "for x in kelime:\n",
        "  print(x)"
      ],
      "execution_count": null,
      "outputs": [
        {
          "output_type": "stream",
          "text": [
            "e\n",
            "l\n",
            "m\n",
            "a\n"
          ],
          "name": "stdout"
        }
      ]
    },
    {
      "cell_type": "code",
      "metadata": {
        "id": "VRH6jy0EXgy5",
        "outputId": "8d368546-9e3f-41df-d5a0-27e82e7fda05",
        "colab": {
          "base_uri": "https://localhost:8080/",
          "height": 51
        }
      },
      "source": [
        "for x in meyve: #meyve = [\"elma\", \"muz\", \"çilek\"]\n",
        "  print(x)\n",
        "  if x == \"muz\":\n",
        "    break #döngüyü sonladırır...."
      ],
      "execution_count": null,
      "outputs": [
        {
          "output_type": "stream",
          "text": [
            "elma\n",
            "muz\n"
          ],
          "name": "stdout"
        }
      ]
    },
    {
      "cell_type": "code",
      "metadata": {
        "id": "5pQehKH_XjFZ",
        "outputId": "0c14dce1-8f04-4f4c-819f-d71df97928b3",
        "colab": {
          "base_uri": "https://localhost:8080/",
          "height": 51
        }
      },
      "source": [
        "for x in meyve: \n",
        "  if x == \"muz\":\n",
        "    continue #Bir sonraki adıma geçer...\n",
        "  print(x)"
      ],
      "execution_count": null,
      "outputs": [
        {
          "output_type": "stream",
          "text": [
            "elma\n",
            "çilek\n"
          ],
          "name": "stdout"
        }
      ]
    },
    {
      "cell_type": "code",
      "metadata": {
        "id": "pcoYflGGXmNu",
        "outputId": "f06314c0-4e7a-48eb-ee7b-820d789dc0b0",
        "colab": {
          "base_uri": "https://localhost:8080/",
          "height": 102
        }
      },
      "source": [
        "for x in range(5):\n",
        "  print(x)"
      ],
      "execution_count": null,
      "outputs": [
        {
          "output_type": "stream",
          "text": [
            "0\n",
            "1\n",
            "2\n",
            "3\n",
            "4\n"
          ],
          "name": "stdout"
        }
      ]
    },
    {
      "cell_type": "code",
      "metadata": {
        "id": "S9w2GFemXqKK",
        "outputId": "83f98548-e50d-41e0-f5f8-353442e5ea40",
        "colab": {
          "base_uri": "https://localhost:8080/",
          "height": 68
        }
      },
      "source": [
        "for x in range(2, 5):#x=2,3,4\n",
        "  print(x)"
      ],
      "execution_count": null,
      "outputs": [
        {
          "output_type": "stream",
          "text": [
            "2\n",
            "3\n",
            "4\n"
          ],
          "name": "stdout"
        }
      ]
    },
    {
      "cell_type": "code",
      "metadata": {
        "id": "D0AV6eYlXu9_",
        "outputId": "b5fd2dd0-d765-4a31-da11-aff4f5a0a159",
        "colab": {
          "base_uri": "https://localhost:8080/",
          "height": 85
        }
      },
      "source": [
        "for x in range(2, 10, 2):#ilk parametre başlangıç değeri, ikinci parametre bitiş değeri, üçüncü parametre artış\n",
        "  print(x)"
      ],
      "execution_count": null,
      "outputs": [
        {
          "output_type": "stream",
          "text": [
            "2\n",
            "4\n",
            "6\n",
            "8\n"
          ],
          "name": "stdout"
        }
      ]
    },
    {
      "cell_type": "code",
      "metadata": {
        "id": "xBPq2NXyXwkj",
        "outputId": "3c2ae0f3-d8d5-4fa3-ba4e-b4c4f0b6192a",
        "colab": {
          "base_uri": "https://localhost:8080/",
          "height": 170
        }
      },
      "source": [
        "ozellik = [\"kırmızı\", \"sarı\", \"lezzetli\"]\n",
        "meyve = [\"elma\", \"muz\", \"çilek\"]\n",
        "\n",
        "for x in ozellik: \n",
        "  for y in meyve:\n",
        "    print(x, y)"
      ],
      "execution_count": null,
      "outputs": [
        {
          "output_type": "stream",
          "text": [
            "kırmızı elma\n",
            "kırmızı muz\n",
            "kırmızı çilek\n",
            "sarı elma\n",
            "sarı muz\n",
            "sarı çilek\n",
            "lezzetli elma\n",
            "lezzetli muz\n",
            "lezzetli çilek\n"
          ],
          "name": "stdout"
        }
      ]
    },
    {
      "cell_type": "code",
      "metadata": {
        "id": "8OXfZKXtX3CO",
        "outputId": "d7db8def-38de-4cb1-d803-8f7c1869e7bb",
        "colab": {
          "base_uri": "https://localhost:8080/",
          "height": 68
        }
      },
      "source": [
        "sozluk = {'kitap':'book', 'bilgisayar':'computer', 'dil':'language' }\n",
        "for i in sozluk: #key value\n",
        "  print(i)"
      ],
      "execution_count": null,
      "outputs": [
        {
          "output_type": "stream",
          "text": [
            "kitap\n",
            "bilgisayar\n",
            "dil\n"
          ],
          "name": "stdout"
        }
      ]
    },
    {
      "cell_type": "code",
      "metadata": {
        "id": "u8RW4mI3X4WA",
        "outputId": "a1813cdd-a271-4062-d531-4476c558f0fe",
        "colab": {
          "base_uri": "https://localhost:8080/",
          "height": 68
        }
      },
      "source": [
        "sozluk = {'kitap':'book', 'bilgisayar':'computer', 'dil':'language' }\n",
        "for i in sozluk.values():\n",
        "  print(i)"
      ],
      "execution_count": null,
      "outputs": [
        {
          "output_type": "stream",
          "text": [
            "book\n",
            "computer\n",
            "language\n"
          ],
          "name": "stdout"
        }
      ]
    },
    {
      "cell_type": "code",
      "metadata": {
        "id": "FtsaLWpaX9bo",
        "outputId": "f15aab06-0f83-4ae1-b50b-162aa4e07282",
        "colab": {
          "base_uri": "https://localhost:8080/",
          "height": 68
        }
      },
      "source": [
        "sozluk = {'kitap':'book', 'bilgisayar':'computer', 'dil':'language' }\n",
        "for i in sozluk: #i=dil sozluk[dil]\n",
        "  print(i, '->', sozluk[i])"
      ],
      "execution_count": null,
      "outputs": [
        {
          "output_type": "stream",
          "text": [
            "kitap -> book\n",
            "bilgisayar -> computer\n",
            "dil -> language\n"
          ],
          "name": "stdout"
        }
      ]
    },
    {
      "cell_type": "code",
      "metadata": {
        "id": "pXsG79zQYAqU",
        "outputId": "a28cabdc-2fc3-473a-ca0e-859980080201",
        "colab": {
          "base_uri": "https://localhost:8080/",
          "height": 51
        }
      },
      "source": [
        "harfler = 'abcdefgh' \n",
        "liste=['Bilgisayar','Kitap','Kalem']\n",
        "print(*liste, sep='-')\n",
        "print(*harfler,sep='+')"
      ],
      "execution_count": null,
      "outputs": [
        {
          "output_type": "stream",
          "text": [
            "Bilgisayar-Kitap-Kalem\n",
            "a+b+c+d+e+f+g+h\n"
          ],
          "name": "stdout"
        }
      ]
    },
    {
      "cell_type": "code",
      "metadata": {
        "id": "Nsmp1kBGYFZ3",
        "outputId": "b1939bac-943a-4056-826d-c4b87067c050",
        "colab": {
          "base_uri": "https://localhost:8080/",
          "height": 85
        }
      },
      "source": [
        "while True: #sonsuz döngü\n",
        "  try:\n",
        "    notu = int(input('Lütfen 0-100 aralığında bir not girin')) \n",
        "    if notu>100 or notu<0:\n",
        "      print('Girdiğiniz not değeri 0-100 arasında olmalıdır') \n",
        "    else:\n",
        "      if notu>84:\n",
        "        print('Öğrenci notu: 5')\n",
        "      elif notu<85 and notu>69: \n",
        "        print('Öğrenci notu: 4')\n",
        "      elif notu<70 and notu>54: \n",
        "        print('Öğrenci notu: 3')\n",
        "      elif notu<55 and notu>44: \n",
        "        print('Öğrenci notu: 2')\n",
        "      else:\n",
        "        print('Öğrenci notu: 1')\n",
        "      break # döngüyü sonlandırma \n",
        "  except:\n",
        "    print('Lütfen sayı değeri girin')"
      ],
      "execution_count": null,
      "outputs": [
        {
          "output_type": "stream",
          "text": [
            "Lütfen 0-100 aralığında bir not girinqwqwwq\n",
            "Lütfen sayı değeri girin\n",
            "Lütfen 0-100 aralığında bir not girin90\n",
            "Öğrenci notu: 5\n"
          ],
          "name": "stdout"
        }
      ]
    }
  ]
}