{
  "nbformat": 4,
  "nbformat_minor": 0,
  "metadata": {
    "colab": {
      "name": "Ders3.ipynb",
      "provenance": [],
      "authorship_tag": "ABX9TyNgX+pOMS6alF/fNvM2+zmd"
    },
    "kernelspec": {
      "name": "python3",
      "display_name": "Python 3"
    }
  },
  "cells": [
    {
      "cell_type": "markdown",
      "metadata": {
        "id": "TwRnt3d20kut"
      },
      "source": [
        "Dictionary (Sözlük) key-value(anahtar ve değer) çiftinden oluşur. Küme parantezi içerisine yazılır ve iki nokta ile birbirinden ayrılır."
      ]
    },
    {
      "cell_type": "code",
      "metadata": {
        "id": "SiaZXFqe0X1X"
      },
      "source": [
        "bolge_il = {\n",
        "'Ege': 'Manisa', \n",
        "'Marmara': 'İstanbul', \n",
        "'icAnadolu': 'Ankara', \n",
        "'Akdeniz': 'Antalya'\n",
        "}"
      ],
      "execution_count": 1,
      "outputs": []
    },
    {
      "cell_type": "code",
      "metadata": {
        "id": "eutvM9Mn1Ef_",
        "outputId": "184cf65a-20be-4712-e584-3974c1e3509b",
        "colab": {
          "base_uri": "https://localhost:8080/",
          "height": 34
        }
      },
      "source": [
        "ege_il = bolge_il['Akdeniz']\n",
        "print(ege_il)"
      ],
      "execution_count": 4,
      "outputs": [
        {
          "output_type": "stream",
          "text": [
            "Antalya\n"
          ],
          "name": "stdout"
        }
      ]
    },
    {
      "cell_type": "code",
      "metadata": {
        "id": "Xg1PRc1O2FQj",
        "outputId": "56810355-1bd1-4e8f-a682-3589dba5359d",
        "colab": {
          "base_uri": "https://localhost:8080/",
          "height": 85
        }
      },
      "source": [
        "#key-value\n",
        "#for (i=0;i<10;i++) C# for döngüsü \n",
        "for k in bolge_il.keys():\n",
        "  print('{} ilinin bölgesi: {}'.format(bolge_il[k], k))#bolge_il[k] k='Marmara'"
      ],
      "execution_count": 6,
      "outputs": [
        {
          "output_type": "stream",
          "text": [
            "Manisa ilinin bölgesi: Ege\n",
            "İstanbul ilinin bölgesi: Marmara\n",
            "Ankara ilinin bölgesi: icAnadolu\n",
            "Antalya ilinin bölgesi: Akdeniz\n"
          ],
          "name": "stdout"
        }
      ]
    },
    {
      "cell_type": "markdown",
      "metadata": {
        "id": "39mBrAnX3Jbm"
      },
      "source": [
        "**SET**\n",
        "\n",
        "Pythonda set listeleri, list' e benzer ancak fark olarak set içindeki elemanlar sıralanamaz (sort) ve indekslenemez yani set elemanlarına 0,1 şeklinde indeks numaraları ile ulaşamayız. "
      ]
    },
    {
      "cell_type": "code",
      "metadata": {
        "id": "gpZGzmr32fDw",
        "outputId": "9d078ff7-f54e-42c8-a46b-c4b3076404c2",
        "colab": {
          "base_uri": "https://localhost:8080/",
          "height": 34
        }
      },
      "source": [
        "fruits = {\"banana\", \"grape\", \"cherry\"}\n",
        "print(fruits)"
      ],
      "execution_count": 7,
      "outputs": [
        {
          "output_type": "stream",
          "text": [
            "{'cherry', 'banana', 'grape'}\n"
          ],
          "name": "stdout"
        }
      ]
    },
    {
      "cell_type": "code",
      "metadata": {
        "id": "RfLlUzq-3fUm",
        "outputId": "046b5aa2-1b97-4a78-a60a-99854225d889",
        "colab": {
          "base_uri": "https://localhost:8080/",
          "height": 85
        }
      },
      "source": [
        "fruits = {\"banana\", \"grape\", \"cherry\"}#set küme parantezi ile tanımlanmış...\n",
        "for fruit in fruits:\n",
        "  print(fruit)\n",
        "print(type(fruits))"
      ],
      "execution_count": 9,
      "outputs": [
        {
          "output_type": "stream",
          "text": [
            "cherry\n",
            "banana\n",
            "grape\n",
            "<class 'set'>\n"
          ],
          "name": "stdout"
        }
      ]
    },
    {
      "cell_type": "code",
      "metadata": {
        "id": "o-GTRYUr6fXf",
        "outputId": "5098ab56-d2dd-4187-a498-153f6b8a60ab",
        "colab": {
          "base_uri": "https://localhost:8080/",
          "height": 51
        }
      },
      "source": [
        " my_list = [1,2,3]#list köşeli parantezle tanımlanmış... \n",
        " print(my_list)\n",
        " my_set = set(my_list)\n",
        " print(my_set)"
      ],
      "execution_count": 11,
      "outputs": [
        {
          "output_type": "stream",
          "text": [
            "[1, 2, 3]\n",
            "{1, 2, 3}\n"
          ],
          "name": "stdout"
        }
      ]
    },
    {
      "cell_type": "code",
      "metadata": {
        "id": "TVdxnL9l7k9S",
        "outputId": "2c9909aa-b22d-40af-b629-e4d2bbf68dee",
        "colab": {
          "base_uri": "https://localhost:8080/",
          "height": 34
        }
      },
      "source": [
        "import math\n",
        "math.sqrt(16)"
      ],
      "execution_count": 12,
      "outputs": [
        {
          "output_type": "execute_result",
          "data": {
            "text/plain": [
              "4.0"
            ]
          },
          "metadata": {
            "tags": []
          },
          "execution_count": 12
        }
      ]
    },
    {
      "cell_type": "code",
      "metadata": {
        "id": "kUSWpOWADcaz",
        "outputId": "744aa79e-47d0-4071-e4f3-11ed10c158ad",
        "colab": {
          "base_uri": "https://localhost:8080/",
          "height": 935
        }
      },
      "source": [
        "dir(math)"
      ],
      "execution_count": 13,
      "outputs": [
        {
          "output_type": "execute_result",
          "data": {
            "text/plain": [
              "['__doc__',\n",
              " '__loader__',\n",
              " '__name__',\n",
              " '__package__',\n",
              " '__spec__',\n",
              " 'acos',\n",
              " 'acosh',\n",
              " 'asin',\n",
              " 'asinh',\n",
              " 'atan',\n",
              " 'atan2',\n",
              " 'atanh',\n",
              " 'ceil',\n",
              " 'copysign',\n",
              " 'cos',\n",
              " 'cosh',\n",
              " 'degrees',\n",
              " 'e',\n",
              " 'erf',\n",
              " 'erfc',\n",
              " 'exp',\n",
              " 'expm1',\n",
              " 'fabs',\n",
              " 'factorial',\n",
              " 'floor',\n",
              " 'fmod',\n",
              " 'frexp',\n",
              " 'fsum',\n",
              " 'gamma',\n",
              " 'gcd',\n",
              " 'hypot',\n",
              " 'inf',\n",
              " 'isclose',\n",
              " 'isfinite',\n",
              " 'isinf',\n",
              " 'isnan',\n",
              " 'ldexp',\n",
              " 'lgamma',\n",
              " 'log',\n",
              " 'log10',\n",
              " 'log1p',\n",
              " 'log2',\n",
              " 'modf',\n",
              " 'nan',\n",
              " 'pi',\n",
              " 'pow',\n",
              " 'radians',\n",
              " 'sin',\n",
              " 'sinh',\n",
              " 'sqrt',\n",
              " 'tan',\n",
              " 'tanh',\n",
              " 'tau',\n",
              " 'trunc']"
            ]
          },
          "metadata": {
            "tags": []
          },
          "execution_count": 13
        }
      ]
    },
    {
      "cell_type": "code",
      "metadata": {
        "id": "WTLR7OZr8n-B",
        "outputId": "124919bf-d149-40a1-f222-c12a3a8f09ba",
        "colab": {
          "base_uri": "https://localhost:8080/",
          "height": 35
        }
      },
      "source": [
        "math.__doc__"
      ],
      "execution_count": 15,
      "outputs": [
        {
          "output_type": "execute_result",
          "data": {
            "application/vnd.google.colaboratory.intrinsic+json": {
              "type": "string"
            },
            "text/plain": [
              "'This module is always available.  It provides access to the\\nmathematical functions defined by the C standard.'"
            ]
          },
          "metadata": {
            "tags": []
          },
          "execution_count": 15
        }
      ]
    },
    {
      "cell_type": "code",
      "metadata": {
        "id": "4_LkEaBW8zhT",
        "outputId": "979614de-e763-4ae6-ba91-1627789f874a",
        "colab": {
          "base_uri": "https://localhost:8080/",
          "height": 35
        }
      },
      "source": [
        "def Merhaba():\n",
        "  \"\"\"Bu metot ile ilgili doc burada olabilir.\n",
        "     Burada Merhaba Dünya mesajı verilecek....\n",
        "  \"\"\" \n",
        "  return 'Hello World'\n",
        "Merhaba.__doc__"
      ],
      "execution_count": 16,
      "outputs": [
        {
          "output_type": "execute_result",
          "data": {
            "application/vnd.google.colaboratory.intrinsic+json": {
              "type": "string"
            },
            "text/plain": [
              "'Bu metot ile ilgili doc burada olabilir.\\n     Burada Merhaba Dünya mesajı verilecek....\\n  '"
            ]
          },
          "metadata": {
            "tags": []
          },
          "execution_count": 16
        }
      ]
    },
    {
      "cell_type": "code",
      "metadata": {
        "id": "Vm5tUmck_Uv_",
        "outputId": "fc4fab54-5003-465d-ec11-eb05c241f664",
        "colab": {
          "base_uri": "https://localhost:8080/",
          "height": 119
        }
      },
      "source": [
        "help(Merhaba)"
      ],
      "execution_count": 17,
      "outputs": [
        {
          "output_type": "stream",
          "text": [
            "Help on function Merhaba in module __main__:\n",
            "\n",
            "Merhaba()\n",
            "    Bu metot ile ilgili doc burada olabilir.\n",
            "    Burada Merhaba Dünya mesajı verilecek....\n",
            "\n"
          ],
          "name": "stdout"
        }
      ]
    },
    {
      "cell_type": "code",
      "metadata": {
        "id": "6QjaAWAiBS5n"
      },
      "source": [
        "# if şart_ifadesi:\n",
        "# şart doğru ise yapılacaklar\n",
        "\"\"\"\n",
        "Eşitlik: a == b\n",
        "Eşit Değil: a != b\n",
        "Küçük: a < b\n",
        "Küçük Eşit: a <= b\n",
        "Büyük: a > b\n",
        "Büyük Eşit: a >= b\n",
        "\"\"\""
      ],
      "execution_count": null,
      "outputs": []
    },
    {
      "cell_type": "code",
      "metadata": {
        "id": "jucHNaZNAFqR",
        "outputId": "8e1d5e88-239f-4243-bc9a-6cfc54006d83",
        "colab": {
          "base_uri": "https://localhost:8080/",
          "height": 34
        }
      },
      "source": [
        "a=10 \n",
        "if a>5:\n",
        "  print('a değeri 5ten büyüktür')"
      ],
      "execution_count": 18,
      "outputs": [
        {
          "output_type": "stream",
          "text": [
            "a değeri 5ten büyüktür\n"
          ],
          "name": "stdout"
        }
      ]
    },
    {
      "cell_type": "code",
      "metadata": {
        "id": "8BoMxa22BcEy",
        "outputId": "99e5b3e8-3336-48a8-96f2-be481cc7c1f2",
        "colab": {
          "base_uri": "https://localhost:8080/",
          "height": 34
        }
      },
      "source": [
        "a = 33\n",
        "b = 200\n",
        "if b > a:\n",
        "  print(\"b, a'dan daha büyük...\")"
      ],
      "execution_count": 21,
      "outputs": [
        {
          "output_type": "stream",
          "text": [
            "b, a'dan daha büyük...\n"
          ],
          "name": "stdout"
        }
      ]
    },
    {
      "cell_type": "code",
      "metadata": {
        "id": "b0SnXRl0ANo5",
        "outputId": "badf9026-1930-477b-8042-c6a98019b763",
        "colab": {
          "base_uri": "https://localhost:8080/",
          "height": 34
        }
      },
      "source": [
        "a=5\n",
        "if a>5:\n",
        "  print('a değeri 5ten büyüktür') \n",
        "else:\n",
        "  print('a değeri 5 ten büyük değil..')"
      ],
      "execution_count": 29,
      "outputs": [
        {
          "output_type": "stream",
          "text": [
            "a değeri 5 ten büyük değil..\n"
          ],
          "name": "stdout"
        }
      ]
    },
    {
      "cell_type": "code",
      "metadata": {
        "id": "NqgvHsuXBigD",
        "outputId": "985fd21b-0b76-4344-e607-f18fdd921053",
        "colab": {
          "base_uri": "https://localhost:8080/",
          "height": 34
        }
      },
      "source": [
        "a = 200\n",
        "b = 33\n",
        "c = 500\n",
        "if a > b and c > a:\n",
        "  print(\"Her iki durumda doğru\")"
      ],
      "execution_count": 35,
      "outputs": [
        {
          "output_type": "stream",
          "text": [
            "Her iki durumda doğru\n"
          ],
          "name": "stdout"
        }
      ]
    },
    {
      "cell_type": "code",
      "metadata": {
        "id": "7Nddf9pmBuxk",
        "outputId": "24891c7d-9061-4c11-903d-9023b311acf6",
        "colab": {
          "base_uri": "https://localhost:8080/",
          "height": 51
        }
      },
      "source": [
        "x = 8\n",
        "\n",
        "if x > 10:\n",
        "  print(\"10 dan büyük,\")\n",
        "  if x > 20:\n",
        "    print(\"ve 20 den büyük!\")\n",
        "  else:\n",
        "    print(\"ama 20 den küçük..\")\n",
        "else:\n",
        "  print('10 dan büyük değil')\n",
        "print('İşlem bitti..')"
      ],
      "execution_count": 40,
      "outputs": [
        {
          "output_type": "stream",
          "text": [
            "10 dan büyük değil\n",
            "İşlem bitti..\n"
          ],
          "name": "stdout"
        }
      ]
    },
    {
      "cell_type": "code",
      "metadata": {
        "id": "nPBfnZrECP3u",
        "outputId": "f21dcf17-c234-4619-ff2b-8d46d1b8bfe6",
        "colab": {
          "base_uri": "https://localhost:8080/",
          "height": 51
        }
      },
      "source": [
        "\"\"\"\n",
        "if şart1:\n",
        "  doğruysa\n",
        "elif şart2:\n",
        "  doğruysa\n",
        "elif şart3:\n",
        "  doğruysa\n",
        "else :\n",
        "  hiçbiri olmadıysa\n",
        "\"\"\"\n",
        "notu = int(input('Notunuzu girin:')) #input ile girilen değerler str türündedir. int(değişken) notu=35\n",
        "if notu>=85:\n",
        "  print('Öğrenci notu: 5') \n",
        "elif notu<85 and notu>69:        # else if=elif\n",
        "  print('Öğrenci notu: 4') \n",
        "elif notu<70 and notu>54:\n",
        "  print('Öğrenci notu: 3') \n",
        "elif notu<55 and notu>44:\n",
        "  print('Öğrenci notu: 2') \n",
        "else:\n",
        "  print('Öğrenci notu: 1')"
      ],
      "execution_count": 42,
      "outputs": [
        {
          "output_type": "stream",
          "text": [
            "Notunuzu girin:55\n",
            "Öğrenci notu: 3\n"
          ],
          "name": "stdout"
        }
      ]
    },
    {
      "cell_type": "code",
      "metadata": {
        "id": "2YBOQwU2CjYk",
        "outputId": "bc1929fb-0dd9-4600-a149-9369c8a48cd3",
        "colab": {
          "base_uri": "https://localhost:8080/",
          "height": 85
        }
      },
      "source": [
        "yas = int(input('Lütfen yaşınızı yazın\\n')) \n",
        "if yas>17:\n",
        "  cinsiyet = (input('Lütfen cinsiyetinizi girin E/K')).upper()\n",
        "  if cinsiyet=='E':\n",
        "    print('Askerlik durumunuz bulunmaktadır')\n",
        "  else:\n",
        "    print('Askerlik durumunuz bulunmamaktadır') \n",
        "else:    \n",
        "  print('Askerlik durumunuz bulunmamaktadır')"
      ],
      "execution_count": 45,
      "outputs": [
        {
          "output_type": "stream",
          "text": [
            "Lütfen yaşınızı yazın\n",
            "20\n",
            "Lütfen cinsiyetinizi girin E/Ke\n",
            "Askerlik durumunuz bulunmaktadır\n"
          ],
          "name": "stdout"
        }
      ]
    }
  ]
}