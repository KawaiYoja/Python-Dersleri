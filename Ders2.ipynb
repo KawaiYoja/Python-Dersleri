{
  "nbformat": 4,
  "nbformat_minor": 0,
  "metadata": {
    "colab": {
      "name": "Ders2.ipynb",
      "provenance": [],
      "authorship_tag": "ABX9TyMsUnDRKR8DXZdWemDq0Dwy"
    },
    "kernelspec": {
      "name": "python3",
      "display_name": "Python 3"
    }
  },
  "cells": [
    {
      "cell_type": "markdown",
      "metadata": {
        "id": "vhI08hPqActn"
      },
      "source": [
        "DEĞİŞKEN TANIMLAMADA DİKKAT EDİLMESİ GEREKEN KURALLAR\n",
        "\n",
        "\n",
        "1.   Değişken isimleri harfle veya alt çizgi ile (under score) başlamalıdır.\n",
        "2.   Değişken isimleri harf,sayı ve alt çizgi içerebilir.\n",
        "3.   Büyük küçük harf duyarlılığı vardır.\n"
      ]
    },
    {
      "cell_type": "code",
      "metadata": {
        "id": "kmSrCyoqAWwP",
        "outputId": "f839ffe4-35e7-46c5-eb22-c51f1192c4ef",
        "colab": {
          "base_uri": "https://localhost:8080/",
          "height": 102
        }
      },
      "source": [
        "x=9\n",
        "X=25\n",
        "_y='Merhaba Dünya'\n",
        "print(x,_y)\n",
        "print(X)\n",
        "Akhisar='MYO'\n",
        "akhisar='Bilgisayar Programcılığı'\n",
        "print(Akhisar)\n",
        "print(akhisar)\n",
        "print('Bölümümüzün Adı:', akhisar )"
      ],
      "execution_count": 7,
      "outputs": [
        {
          "output_type": "stream",
          "text": [
            "9 Merhaba Dünya\n",
            "25\n",
            "MYO\n",
            "Bilgisayar Programcılığı\n",
            "Bölümümüzün Adı: Bilgisayar Programcılığı\n"
          ],
          "name": "stdout"
        }
      ]
    },
    {
      "cell_type": "code",
      "metadata": {
        "id": "OsK-nXsjCCDQ",
        "outputId": "5786e940-35d4-4da7-8363-e9b21c649e99",
        "colab": {
          "base_uri": "https://localhost:8080/",
          "height": 130
        }
      },
      "source": [
        "9a='Merhaba Dünya'\n",
        "print(9a)\n",
        "#Değişken isimleri sayı ile başlayamaz..."
      ],
      "execution_count": null,
      "outputs": [
        {
          "output_type": "error",
          "ename": "SyntaxError",
          "evalue": "ignored",
          "traceback": [
            "\u001b[0;36m  File \u001b[0;32m\"<ipython-input-3-393872aba6b3>\"\u001b[0;36m, line \u001b[0;32m1\u001b[0m\n\u001b[0;31m    9a='Merhaba Dünya'\u001b[0m\n\u001b[0m     ^\u001b[0m\n\u001b[0;31mSyntaxError\u001b[0m\u001b[0;31m:\u001b[0m invalid syntax\n"
          ]
        }
      ]
    },
    {
      "cell_type": "code",
      "metadata": {
        "id": "aIqLhr0qCL4S",
        "outputId": "59518f87-4c21-4586-9767-1047e3fbad66",
        "colab": {
          "base_uri": "https://localhost:8080/",
          "height": 85
        }
      },
      "source": [
        "tamSayi=25\n",
        "ondalikli=3.14\n",
        "metin='Merhaba Dünya'\n",
        "dogruYanlis=True\n",
        "print(type(tamSayi))\n",
        "print(type(ondalikli))\n",
        "print(type(metin))\n",
        "print(type(dogruYanlis))"
      ],
      "execution_count": null,
      "outputs": [
        {
          "output_type": "stream",
          "text": [
            "<class 'int'>\n",
            "<class 'float'>\n",
            "<class 'str'>\n",
            "<class 'bool'>\n"
          ],
          "name": "stdout"
        }
      ]
    },
    {
      "cell_type": "code",
      "metadata": {
        "id": "73AbHez7C-P4",
        "outputId": "b2932d03-ae06-48de-9539-3519031e91ab",
        "colab": {
          "base_uri": "https://localhost:8080/",
          "height": 51
        }
      },
      "source": [
        "a,b,c=1,2,3\n",
        "print(a,b,c)\n",
        "A=B=C=1\n",
        "print(A,B,C)"
      ],
      "execution_count": 16,
      "outputs": [
        {
          "output_type": "stream",
          "text": [
            "1 2 3\n",
            "1 1 1\n"
          ],
          "name": "stdout"
        }
      ]
    },
    {
      "cell_type": "code",
      "metadata": {
        "id": "SNnPQ1AbDMEt",
        "outputId": "ef7332bc-6ea7-4a00-f716-d55ac62f817f",
        "colab": {
          "base_uri": "https://localhost:8080/",
          "height": 198
        }
      },
      "source": [
        "w,y,z=1,2\n",
        "print(w,y,z)\n",
        "#3 değişken(w,y,z) tanımlanmış fakat 2 değer(1,2) girişi yapılmış..."
      ],
      "execution_count": 11,
      "outputs": [
        {
          "output_type": "error",
          "ename": "ValueError",
          "evalue": "ignored",
          "traceback": [
            "\u001b[0;31m---------------------------------------------------------------------------\u001b[0m",
            "\u001b[0;31mValueError\u001b[0m                                Traceback (most recent call last)",
            "\u001b[0;32m<ipython-input-11-efa646c86ca0>\u001b[0m in \u001b[0;36m<module>\u001b[0;34m()\u001b[0m\n\u001b[0;32m----> 1\u001b[0;31m \u001b[0mw\u001b[0m\u001b[0;34m,\u001b[0m\u001b[0my\u001b[0m\u001b[0;34m,\u001b[0m\u001b[0mz\u001b[0m\u001b[0;34m=\u001b[0m\u001b[0;36m1\u001b[0m\u001b[0;34m,\u001b[0m\u001b[0;36m2\u001b[0m\u001b[0;34m\u001b[0m\u001b[0;34m\u001b[0m\u001b[0m\n\u001b[0m\u001b[1;32m      2\u001b[0m \u001b[0mprint\u001b[0m\u001b[0;34m(\u001b[0m\u001b[0mw\u001b[0m\u001b[0;34m,\u001b[0m\u001b[0my\u001b[0m\u001b[0;34m,\u001b[0m\u001b[0mz\u001b[0m\u001b[0;34m)\u001b[0m\u001b[0;34m\u001b[0m\u001b[0;34m\u001b[0m\u001b[0m\n\u001b[1;32m      3\u001b[0m \u001b[0;31m#3 değişken(w,y,z) tanımlanmış fakat 2 değer(1,2) girişi yapılmış...\u001b[0m\u001b[0;34m\u001b[0m\u001b[0;34m\u001b[0m\u001b[0;34m\u001b[0m\u001b[0m\n",
            "\u001b[0;31mValueError\u001b[0m: not enough values to unpack (expected 3, got 2)"
          ]
        }
      ]
    },
    {
      "cell_type": "code",
      "metadata": {
        "id": "XE4G4DttFcfG",
        "outputId": "79e20053-5997-49ca-d67e-3f52f474bbca",
        "colab": {
          "base_uri": "https://localhost:8080/",
          "height": 850
        }
      },
      "source": [
        "#Kompleks(karmaşık) Sayılar\n",
        "ksayi = 35.6 + 3.52j \n",
        "dir(ksayi)"
      ],
      "execution_count": null,
      "outputs": [
        {
          "output_type": "execute_result",
          "data": {
            "text/plain": [
              "['__abs__',\n",
              " '__add__',\n",
              " '__bool__',\n",
              " '__class__',\n",
              " '__delattr__',\n",
              " '__dir__',\n",
              " '__divmod__',\n",
              " '__doc__',\n",
              " '__eq__',\n",
              " '__float__',\n",
              " '__floordiv__',\n",
              " '__format__',\n",
              " '__ge__',\n",
              " '__getattribute__',\n",
              " '__getnewargs__',\n",
              " '__gt__',\n",
              " '__hash__',\n",
              " '__init__',\n",
              " '__init_subclass__',\n",
              " '__int__',\n",
              " '__le__',\n",
              " '__lt__',\n",
              " '__mod__',\n",
              " '__mul__',\n",
              " '__ne__',\n",
              " '__neg__',\n",
              " '__new__',\n",
              " '__pos__',\n",
              " '__pow__',\n",
              " '__radd__',\n",
              " '__rdivmod__',\n",
              " '__reduce__',\n",
              " '__reduce_ex__',\n",
              " '__repr__',\n",
              " '__rfloordiv__',\n",
              " '__rmod__',\n",
              " '__rmul__',\n",
              " '__rpow__',\n",
              " '__rsub__',\n",
              " '__rtruediv__',\n",
              " '__setattr__',\n",
              " '__sizeof__',\n",
              " '__str__',\n",
              " '__sub__',\n",
              " '__subclasshook__',\n",
              " '__truediv__',\n",
              " 'conjugate',\n",
              " 'imag',\n",
              " 'real']"
            ]
          },
          "metadata": {
            "tags": []
          },
          "execution_count": 11
        }
      ]
    },
    {
      "cell_type": "code",
      "metadata": {
        "id": "LIHPLBtyFrXi",
        "outputId": "a9d8906c-f91f-46df-84a1-2113bc64b867",
        "colab": {
          "base_uri": "https://localhost:8080/",
          "height": 68
        }
      },
      "source": [
        "ksayi = 14.5 + 7.02j\n",
        "print(\"Gerçek Bölüm: \",ksayi.real)\n",
        "print(\"Sanal Bölümü: \",ksayi.imag)\n",
        "print(type(ksayi))"
      ],
      "execution_count": 12,
      "outputs": [
        {
          "output_type": "stream",
          "text": [
            "Gerçek Bölüm:  14.5\n",
            "Sanal Bölümü:  7.02\n",
            "<class 'complex'>\n"
          ],
          "name": "stdout"
        }
      ]
    },
    {
      "cell_type": "code",
      "metadata": {
        "id": "h8gtvOoiF2Eh",
        "outputId": "4a85cd5e-3734-45b4-a05d-95902cec5e86",
        "colab": {
          "base_uri": "https://localhost:8080/",
          "height": 85
        }
      },
      "source": [
        "deger1 = \"123\"#string\n",
        "print(deger1*3)\n",
        "print(deger1+deger1) #string + string\n",
        "deger2 = int(deger1)#convert.ToInt32(deger1) c# int\n",
        "print(deger2*3)\n",
        "print(deger2+deger2)#int + int"
      ],
      "execution_count": 14,
      "outputs": [
        {
          "output_type": "stream",
          "text": [
            "123123123\n",
            "123123\n",
            "369\n",
            "246\n"
          ],
          "name": "stdout"
        }
      ]
    },
    {
      "cell_type": "markdown",
      "metadata": {
        "id": "DsMS7mr1D0gm"
      },
      "source": [
        "Python döngü ve karşılaştırma deyimlerinde vb. yapısal olarak tab boşlukları(indentation) kullanılır."
      ]
    },
    {
      "cell_type": "code",
      "metadata": {
        "id": "zMCM1zLEDTOA",
        "outputId": "1b812654-74b5-47c9-db58-5e5026309d00",
        "colab": {
          "base_uri": "https://localhost:8080/",
          "height": 68
        }
      },
      "source": [
        "#a=1 ve b=2 olarak yukarıda tanımlanmıştı...\n",
        "if a > b: \n",
        "  print(a)\n",
        "  print('Eğer çalıştı...')\n",
        "else: \n",
        "  print(b)\n",
        "  print('Else çalıştı...')\n",
        "  \n",
        "print('İşlem Tamam...')"
      ],
      "execution_count": 18,
      "outputs": [
        {
          "output_type": "stream",
          "text": [
            "2\n",
            "Else çalıştı...\n",
            "İşlem Tamam...\n"
          ],
          "name": "stdout"
        }
      ]
    },
    {
      "cell_type": "code",
      "metadata": {
        "id": "Rf32ZOv0Ee26",
        "outputId": "9730e55b-14a6-47f3-f227-f00cf5639a75",
        "colab": {
          "base_uri": "https://localhost:8080/",
          "height": 51
        }
      },
      "source": [
        "i='123'\n",
        "if isinstance(i, int):\n",
        "  i += 1 # i=i+1\n",
        "elif isinstance(i, str): #elif = else if kısaltması\n",
        "  i = int(i) \n",
        "  print('int çevirme işlemi başarılı...')\n",
        "  i *= 2 #i=i*2\n",
        "print(i)"
      ],
      "execution_count": 30,
      "outputs": [
        {
          "output_type": "stream",
          "text": [
            "int çevirme işlemi başarılı...\n",
            "246\n"
          ],
          "name": "stdout"
        }
      ]
    },
    {
      "cell_type": "code",
      "metadata": {
        "id": "UXYix5YzP-oj",
        "outputId": "460341a9-5530-4c77-8eef-e12c44684b1e",
        "colab": {
          "base_uri": "https://localhost:8080/",
          "height": 34
        }
      },
      "source": [
        "sayi=123\n",
        "metin=str(sayi) # int to str \n",
        "print(type(metin))"
      ],
      "execution_count": 31,
      "outputs": [
        {
          "output_type": "stream",
          "text": [
            "<class 'str'>\n"
          ],
          "name": "stdout"
        }
      ]
    },
    {
      "cell_type": "code",
      "metadata": {
        "id": "fM0FAWJxGWLb",
        "outputId": "6d02fdb8-1e8e-410a-beec-0e415a95a88f",
        "colab": {
          "base_uri": "https://localhost:8080/",
          "height": 34
        }
      },
      "source": [
        "x = None\n",
        "if x is None: #is özelliği \n",
        "  print('İçerik Yok...')\n",
        "else:\n",
        "  print('None değil...')"
      ],
      "execution_count": 27,
      "outputs": [
        {
          "output_type": "stream",
          "text": [
            "İçerik Yok...\n"
          ],
          "name": "stdout"
        }
      ]
    },
    {
      "cell_type": "markdown",
      "metadata": {
        "id": "9ytqmKcCG6zC"
      },
      "source": [
        "List(LİSTELER)\n",
        "\n",
        "Listeler Python dilinde çok kullanılan yapılardır. Diğer dillerde kullanılan dizilere benzerler. Köşeli parantezler içerisine virgül(,) kullanılarak oluştururlar."
      ]
    },
    {
      "cell_type": "code",
      "metadata": {
        "id": "leykYZ7bG9qJ"
      },
      "source": [
        "int_list = [1, 2, 3] \n",
        "string_list = ['abc', 'defghi']\n",
        "empty_list = []\n",
        "mixed_list = [1, 'abc', True, 2.34, None] # Farklı türdeki değişkenlerden oluşan liste..\n",
        "nested_list = [['a', 'b', 'c'], [1, 2, 3]]#İçiçe geçmiş listeler.."
      ],
      "execution_count": null,
      "outputs": []
    },
    {
      "cell_type": "code",
      "metadata": {
        "id": "XTlO8GWnHvxb",
        "outputId": "4d06c4fe-785a-4c56-c2fc-64657f0e0118",
        "colab": {
          "base_uri": "https://localhost:8080/",
          "height": 51
        }
      },
      "source": [
        "names = ['Özkan','Bünyamin','Esmanur','Gözde'] #liste adı names , liste 4 elemandan oluşan\n",
        "print(names[0])\n",
        "print(names[2])"
      ],
      "execution_count": 33,
      "outputs": [
        {
          "output_type": "stream",
          "text": [
            "Özkan\n",
            "Esmanur\n"
          ],
          "name": "stdout"
        }
      ]
    },
    {
      "cell_type": "code",
      "metadata": {
        "id": "iyNDhUigH8t2",
        "outputId": "53a69cab-0c58-4968-87d0-39fca79153ae",
        "colab": {
          "base_uri": "https://localhost:8080/",
          "height": 85
        }
      },
      "source": [
        "print(names[-1]) # Listeyi tersten yazdırıyor..\n",
        "print(names[3])\n",
        "print(names[-3])\n",
        "print(names[1])"
      ],
      "execution_count": 37,
      "outputs": [
        {
          "output_type": "stream",
          "text": [
            "Gözde\n",
            "Gözde\n",
            "Bünyamin\n",
            "Bünyamin\n"
          ],
          "name": "stdout"
        }
      ]
    },
    {
      "cell_type": "code",
      "metadata": {
        "id": "f8PPlzjPIEnW",
        "outputId": "a48e1ecf-09cd-456a-e355-779c693691ab",
        "colab": {
          "base_uri": "https://localhost:8080/",
          "height": 34
        }
      },
      "source": [
        "names[0] = 'Batu'\n",
        "print(names)"
      ],
      "execution_count": 38,
      "outputs": [
        {
          "output_type": "stream",
          "text": [
            "['Batu', 'Bünyamin', 'Esmanur', 'Gözde']\n"
          ],
          "name": "stdout"
        }
      ]
    },
    {
      "cell_type": "code",
      "metadata": {
        "id": "8ooGOLgtINMD",
        "outputId": "00701324-7126-4dd4-9301-71a076c3c692",
        "colab": {
          "base_uri": "https://localhost:8080/",
          "height": 34
        }
      },
      "source": [
        "names.append('Okan') #Listeye eleman eklemek için...\n",
        "print(names)"
      ],
      "execution_count": null,
      "outputs": [
        {
          "output_type": "stream",
          "text": [
            "['Batu', 'Bünyamin', 'Esmanur', 'Gözde', 'Okan']\n"
          ],
          "name": "stdout"
        }
      ]
    },
    {
      "cell_type": "code",
      "metadata": {
        "id": "7jwhtWZ5IdeD",
        "outputId": "a7007ff3-507a-4826-d7cf-812804c3d333",
        "colab": {
          "base_uri": "https://localhost:8080/",
          "height": 34
        }
      },
      "source": [
        "names.insert(1, 'Efe') #İstenilen indise eleman eklemek için \n",
        "print(names)"
      ],
      "execution_count": null,
      "outputs": [
        {
          "output_type": "stream",
          "text": [
            "['Batu', 'Efe', 'Bünyamin', 'Esmanur', 'Gözde', 'Okan']\n"
          ],
          "name": "stdout"
        }
      ]
    },
    {
      "cell_type": "code",
      "metadata": {
        "id": "9TqfEnRmIoEX",
        "outputId": "e6205aa4-425f-4856-a025-08fc6822d115",
        "colab": {
          "base_uri": "https://localhost:8080/",
          "height": 34
        }
      },
      "source": [
        "names.remove(\"Okan\") #Listeden eleman çıkarmak için \n",
        "print(names) "
      ],
      "execution_count": null,
      "outputs": [
        {
          "output_type": "stream",
          "text": [
            "['Batu', 'Efe', 'Bünyamin', 'Esmanur', 'Gözde']\n"
          ],
          "name": "stdout"
        }
      ]
    },
    {
      "cell_type": "code",
      "metadata": {
        "id": "y_fIrGQvI-Rn",
        "outputId": "b2b268c1-e064-4952-ce93-3d5778a76b48",
        "colab": {
          "base_uri": "https://localhost:8080/",
          "height": 34
        }
      },
      "source": [
        "names.index('Efe')"
      ],
      "execution_count": null,
      "outputs": [
        {
          "output_type": "execute_result",
          "data": {
            "text/plain": [
              "1"
            ]
          },
          "metadata": {
            "tags": []
          },
          "execution_count": 32
        }
      ]
    },
    {
      "cell_type": "code",
      "metadata": {
        "id": "k5wNuYo2JDcQ",
        "outputId": "7fb477a3-36f6-477f-96da-d2edfdb06a96",
        "colab": {
          "base_uri": "https://localhost:8080/",
          "height": 34
        }
      },
      "source": [
        "len(names) #Listenin uzunluğunu gösterir..."
      ],
      "execution_count": null,
      "outputs": [
        {
          "output_type": "execute_result",
          "data": {
            "text/plain": [
              "5"
            ]
          },
          "metadata": {
            "tags": []
          },
          "execution_count": 33
        }
      ]
    },
    {
      "cell_type": "code",
      "metadata": {
        "id": "Ulu-cIZAJK1u",
        "outputId": "fd181822-bc0d-4649-d023-ae2cc66ef283",
        "colab": {
          "base_uri": "https://localhost:8080/",
          "height": 34
        }
      },
      "source": [
        "aa = [1, 1, 1, 2, 3, 4] \n",
        "aa.count(1)"
      ],
      "execution_count": null,
      "outputs": [
        {
          "output_type": "execute_result",
          "data": {
            "text/plain": [
              "3"
            ]
          },
          "metadata": {
            "tags": []
          },
          "execution_count": 34
        }
      ]
    },
    {
      "cell_type": "code",
      "metadata": {
        "id": "9D-fqb8QJN1U",
        "outputId": "3ced4bf3-83dc-496a-8ac1-491b97e064d0",
        "colab": {
          "base_uri": "https://localhost:8080/",
          "height": 34
        }
      },
      "source": [
        "aa.reverse()\n",
        "print(aa)"
      ],
      "execution_count": null,
      "outputs": [
        {
          "output_type": "stream",
          "text": [
            "[4, 3, 2, 1, 1, 1]\n"
          ],
          "name": "stdout"
        }
      ]
    },
    {
      "cell_type": "code",
      "metadata": {
        "id": "A8elC8zIJ6N6",
        "outputId": "b033d0fb-e641-4600-fb62-79f064a6c3cd",
        "colab": {
          "base_uri": "https://localhost:8080/",
          "height": 34
        }
      },
      "source": [
        "aa.sort()\n",
        "print(aa)"
      ],
      "execution_count": null,
      "outputs": [
        {
          "output_type": "stream",
          "text": [
            "[1, 1, 1, 2, 3, 4]\n"
          ],
          "name": "stdout"
        }
      ]
    },
    {
      "cell_type": "code",
      "metadata": {
        "id": "3LlNoc8dWQua",
        "outputId": "6106cb04-e070-4743-f29c-af7356210663",
        "colab": {
          "base_uri": "https://localhost:8080/",
          "height": 34
        }
      },
      "source": [
        "sira=[234,123,356,345]#liste tanımlandı\n",
        "sira.sort()#küçükten büyüğe sıralandı.\n",
        "sira.reverse()#Liste ters çevrildi. Büyükten küçüğe haline geldi.\n",
        "print(sira)"
      ],
      "execution_count": 41,
      "outputs": [
        {
          "output_type": "stream",
          "text": [
            "[356, 345, 234, 123]\n"
          ],
          "name": "stdout"
        }
      ]
    },
    {
      "cell_type": "code",
      "metadata": {
        "id": "-qv3d-IDXQOq",
        "outputId": "a83c5394-bf03-42c6-8740-f4cc4b94a73c",
        "colab": {
          "base_uri": "https://localhost:8080/",
          "height": 85
        }
      },
      "source": [
        "for eleman in sira:\n",
        "  print(eleman)"
      ],
      "execution_count": 42,
      "outputs": [
        {
          "output_type": "stream",
          "text": [
            "356\n",
            "345\n",
            "234\n",
            "123\n"
          ],
          "name": "stdout"
        }
      ]
    },
    {
      "cell_type": "code",
      "metadata": {
        "id": "nGdoalP3KFjb",
        "outputId": "be707114-dde6-4576-e8e4-2396e6c37368",
        "colab": {
          "base_uri": "https://localhost:8080/",
          "height": 799
        }
      },
      "source": [
        "dir(aa)"
      ],
      "execution_count": null,
      "outputs": [
        {
          "output_type": "execute_result",
          "data": {
            "text/plain": [
              "['__add__',\n",
              " '__class__',\n",
              " '__contains__',\n",
              " '__delattr__',\n",
              " '__delitem__',\n",
              " '__dir__',\n",
              " '__doc__',\n",
              " '__eq__',\n",
              " '__format__',\n",
              " '__ge__',\n",
              " '__getattribute__',\n",
              " '__getitem__',\n",
              " '__gt__',\n",
              " '__hash__',\n",
              " '__iadd__',\n",
              " '__imul__',\n",
              " '__init__',\n",
              " '__init_subclass__',\n",
              " '__iter__',\n",
              " '__le__',\n",
              " '__len__',\n",
              " '__lt__',\n",
              " '__mul__',\n",
              " '__ne__',\n",
              " '__new__',\n",
              " '__reduce__',\n",
              " '__reduce_ex__',\n",
              " '__repr__',\n",
              " '__reversed__',\n",
              " '__rmul__',\n",
              " '__setattr__',\n",
              " '__setitem__',\n",
              " '__sizeof__',\n",
              " '__str__',\n",
              " '__subclasshook__',\n",
              " 'append',\n",
              " 'clear',\n",
              " 'copy',\n",
              " 'count',\n",
              " 'extend',\n",
              " 'index',\n",
              " 'insert',\n",
              " 'pop',\n",
              " 'remove',\n",
              " 'reverse',\n",
              " 'sort']"
            ]
          },
          "metadata": {
            "tags": []
          },
          "execution_count": 45
        }
      ]
    },
    {
      "cell_type": "code",
      "metadata": {
        "id": "RHE40ImrKnVZ",
        "outputId": "b4f57eb5-9f34-47db-cd05-a558b769641e",
        "colab": {
          "base_uri": "https://localhost:8080/",
          "height": 34
        }
      },
      "source": [
        "#Demetler (tuple)\n",
        "demet = (1,2,3,4) \n",
        "print(type(demet))"
      ],
      "execution_count": null,
      "outputs": [
        {
          "output_type": "stream",
          "text": [
            "<class 'tuple'>\n"
          ],
          "name": "stdout"
        }
      ]
    },
    {
      "cell_type": "code",
      "metadata": {
        "id": "hpWRh30tK0ke",
        "outputId": "ec08d461-1cf1-4343-fb7c-dba9716af3a0",
        "colab": {
          "base_uri": "https://localhost:8080/",
          "height": 34
        }
      },
      "source": [
        " demet = (\"a\",\"b\",\"c\") \n",
        " d = demet + demet \n",
        " print(d)"
      ],
      "execution_count": null,
      "outputs": [
        {
          "output_type": "stream",
          "text": [
            "('a', 'b', 'c', 'a', 'b', 'c')\n"
          ],
          "name": "stdout"
        }
      ]
    },
    {
      "cell_type": "code",
      "metadata": {
        "id": "5NMIwcdRK54F",
        "outputId": "13154310-1df5-48c5-8b0c-7193a062df8b",
        "colab": {
          "base_uri": "https://localhost:8080/",
          "height": 34
        }
      },
      "source": [
        "print(d[2:5])"
      ],
      "execution_count": null,
      "outputs": [
        {
          "output_type": "stream",
          "text": [
            "('c', 'a', 'b')\n"
          ],
          "name": "stdout"
        }
      ]
    }
  ]
}