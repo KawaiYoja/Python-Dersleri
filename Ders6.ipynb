{
  "nbformat": 4,
  "nbformat_minor": 0,
  "metadata": {
    "colab": {
      "name": "Ders6.ipynb",
      "provenance": [],
      "authorship_tag": "ABX9TyMwgQ4bv6T8cB0+Yr3r2eeZ"
    },
    "kernelspec": {
      "name": "python3",
      "display_name": "Python 3"
    }
  },
  "cells": [
    {
      "cell_type": "code",
      "metadata": {
        "colab": {
          "base_uri": "https://localhost:8080/"
        },
        "id": "IUo6reQnRlJO",
        "outputId": "c473785a-e576-4314-e616-6189b2b6ca1a"
      },
      "source": [
        "x = 0\n",
        "for i in range(5): #0-4 5adım\n",
        "  for j in range(-1, -5, -1): #-1 - -4   4adım\n",
        "    x += 1 #x=x+1\n",
        "    print(x)"
      ],
      "execution_count": null,
      "outputs": [
        {
          "output_type": "stream",
          "text": [
            "1\n",
            "2\n",
            "3\n",
            "4\n",
            "5\n",
            "6\n",
            "7\n",
            "8\n",
            "9\n",
            "10\n",
            "11\n",
            "12\n",
            "13\n",
            "14\n",
            "15\n",
            "16\n",
            "17\n",
            "18\n",
            "19\n",
            "20\n"
          ],
          "name": "stdout"
        }
      ]
    },
    {
      "cell_type": "code",
      "metadata": {
        "colab": {
          "base_uri": "https://localhost:8080/"
        },
        "id": "9kX6XsPYSXOt",
        "outputId": "f13b2c9b-0af2-4d5a-c0d9-2d58489805e0"
      },
      "source": [
        "x = 0\n",
        "a = 0\n",
        "b = -5\n",
        "if a > 0: # 0 dan büyük değil\n",
        "    if b < 0: \n",
        "        x = x + 5 \n",
        "    elif a > 5:\n",
        "        x = x + 4\n",
        "    else:\n",
        "        x = x + 3\n",
        "else: \n",
        "    x = x + 2\n",
        "print(x)"
      ],
      "execution_count": null,
      "outputs": [
        {
          "output_type": "stream",
          "text": [
            "2\n"
          ],
          "name": "stdout"
        }
      ]
    },
    {
      "cell_type": "code",
      "metadata": {
        "colab": {
          "base_uri": "https://localhost:8080/"
        },
        "id": "cyny5j6CScrh",
        "outputId": "e3d6c3b4-4258-482b-b1ba-18db3326e5a0"
      },
      "source": [
        "for num in range(-2,-5,-1): #-2 -3 -4\n",
        "    print(num, end=\", \")"
      ],
      "execution_count": null,
      "outputs": [
        {
          "output_type": "stream",
          "text": [
            "-2, -3, -4, "
          ],
          "name": "stdout"
        }
      ]
    },
    {
      "cell_type": "code",
      "metadata": {
        "colab": {
          "base_uri": "https://localhost:8080/"
        },
        "id": "UACWmsKBSh1X",
        "outputId": "3cedb120-18c6-4830-cc0e-b78643f99a1e"
      },
      "source": [
        "for num in range(10, 14): #10 11 12 13\n",
        "   for i in range(2, num):# 2-13\n",
        "       if num%i == 1: #13 %2 ==1\n",
        "          print(num)\n",
        "          break"
      ],
      "execution_count": null,
      "outputs": [
        {
          "output_type": "stream",
          "text": [
            "10\n",
            "11\n",
            "12\n",
            "13\n"
          ],
          "name": "stdout"
        }
      ]
    },
    {
      "cell_type": "code",
      "metadata": {
        "colab": {
          "base_uri": "https://localhost:8080/"
        },
        "id": "oT-9NdKtSoOH",
        "outputId": "5bcd1517-05c6-4a01-fdf9-7cbcf3076dc6"
      },
      "source": [
        "for l in 'John': #J , o, h, n\n",
        "   if l == 'o':\n",
        "      continue\n",
        "   print(l)\n",
        "\n",
        "liste=['Merhaba','Dünya','Hoşgeldiniz..']\n",
        "for x in liste:\n",
        "  if x=='Merhaba':\n",
        "    continue\n",
        "  print(x)"
      ],
      "execution_count": null,
      "outputs": [
        {
          "output_type": "stream",
          "text": [
            "J\n",
            "h\n",
            "n\n",
            "Dünya\n",
            "Hoşgeldiniz..\n"
          ],
          "name": "stdout"
        }
      ]
    },
    {
      "cell_type": "code",
      "metadata": {
        "colab": {
          "base_uri": "https://localhost:8080/"
        },
        "id": "bVFPAUOGS2Oc",
        "outputId": "179fd62a-e184-4d69-905e-a1eb3e349909"
      },
      "source": [
        "var = 10\n",
        "for i in range(10): #0-9\n",
        "    for j in range(2, 10, 1): #2-9\n",
        "        if var % 2 == 0:\n",
        "            continue\n",
        "            var += 1\n",
        "    var+=1\n",
        "else:\n",
        "    var+=1\n",
        "print(var)"
      ],
      "execution_count": null,
      "outputs": [
        {
          "output_type": "stream",
          "text": [
            "21\n"
          ],
          "name": "stdout"
        }
      ]
    },
    {
      "cell_type": "code",
      "metadata": {
        "colab": {
          "base_uri": "https://localhost:8080/"
        },
        "id": "A-DYQEd8TI69",
        "outputId": "0f0068ac-f231-4180-bd46-dd5adb50841e"
      },
      "source": [
        "x = 0\n",
        "a = 5\n",
        "b = 5\n",
        "if a > 0:\n",
        "    if b < 0: \n",
        "        x = x + 5 \n",
        "    elif a > 5:\n",
        "        x = x + 4\n",
        "    else:\n",
        "        x = x + 3\n",
        "else:\n",
        "    x = x + 2\n",
        "print(x)"
      ],
      "execution_count": null,
      "outputs": [
        {
          "output_type": "stream",
          "text": [
            "3\n"
          ],
          "name": "stdout"
        }
      ]
    },
    {
      "cell_type": "code",
      "metadata": {
        "colab": {
          "base_uri": "https://localhost:8080/"
        },
        "id": "XgkRP0DgTKoC",
        "outputId": "9d9136be-743c-4cdb-8753-72bb4af9a1dd"
      },
      "source": [
        "x = 0\n",
        "while (x < 100):\n",
        "  x+=2\n",
        "print(x)"
      ],
      "execution_count": null,
      "outputs": [
        {
          "output_type": "stream",
          "text": [
            "100\n"
          ],
          "name": "stdout"
        }
      ]
    },
    {
      "cell_type": "code",
      "metadata": {
        "colab": {
          "base_uri": "https://localhost:8080/"
        },
        "id": "kmInitA9TVPn",
        "outputId": "eb5e86f8-fe35-4585-e61d-5620c46316ba"
      },
      "source": [
        "aList = [\"Deneme\", [4, 8, 12, 16, [5,6,7]],2]\n",
        "print(aList[0][1])    \n",
        "print(aList[1][3])\n",
        "print(aList[1][4][0])"
      ],
      "execution_count": null,
      "outputs": [
        {
          "output_type": "stream",
          "text": [
            "e\n",
            "16\n",
            "5\n"
          ],
          "name": "stdout"
        }
      ]
    },
    {
      "cell_type": "code",
      "metadata": {
        "colab": {
          "base_uri": "https://localhost:8080/"
        },
        "id": "ZG5Jy5pxTnyl",
        "outputId": "eb91295f-307f-446e-8d19-87944c088a36"
      },
      "source": [
        "aList = [1, 2, 3, 4, 5, 6, 7]\n",
        "pow2 =  [2 * x for x in aList]\n",
        "print(pow2)"
      ],
      "execution_count": null,
      "outputs": [
        {
          "output_type": "stream",
          "text": [
            "[2, 4, 6, 8, 10, 12, 14]\n"
          ],
          "name": "stdout"
        }
      ]
    }
  ]
}