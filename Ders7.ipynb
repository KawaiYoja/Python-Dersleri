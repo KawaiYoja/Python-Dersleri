{
  "nbformat": 4,
  "nbformat_minor": 0,
  "metadata": {
    "colab": {
      "name": "Ders7.ipynb",
      "provenance": [],
      "authorship_tag": "ABX9TyNRx9p05e1Ai2SIrplN6Prc"
    },
    "kernelspec": {
      "name": "python3",
      "display_name": "Python 3"
    }
  },
  "cells": [
    {
      "cell_type": "code",
      "metadata": {
        "colab": {
          "base_uri": "https://localhost:8080/"
        },
        "id": "yWsiRTn2DA_W",
        "outputId": "36c864d8-9f94-49ec-9375-d32777b27068"
      },
      "source": [
        "lst = ['a', 'b', 'c', 'd', 'e'] \n",
        "#lst[2:4]\n",
        "# Output: ['c', 'd']\n",
        "#lst[2:]\n",
        "# Output: ['c', 'd', 'e']\n",
        "lst[:4]\n",
        "# Output: ['a', 'b', 'c', 'd']"
      ],
      "execution_count": null,
      "outputs": [
        {
          "output_type": "execute_result",
          "data": {
            "text/plain": [
              "['a', 'b', 'c', 'd']"
            ]
          },
          "metadata": {
            "tags": []
          },
          "execution_count": 10
        }
      ]
    },
    {
      "cell_type": "code",
      "metadata": {
        "colab": {
          "base_uri": "https://localhost:8080/"
        },
        "id": "yzzo3mm8CJky",
        "outputId": "fad39acb-8ebf-40ce-fdea-1baf54b46b29"
      },
      "source": [
        "lst = ['a', 'b', 'c', 'd', 'e', 'f', 'g', 'h'] \n",
        "lst[1::2]\n",
        "#lst[::3]"
      ],
      "execution_count": null,
      "outputs": [
        {
          "output_type": "execute_result",
          "data": {
            "text/plain": [
              "['b', 'd', 'f', 'h']"
            ]
          },
          "metadata": {
            "tags": []
          },
          "execution_count": 15
        }
      ]
    },
    {
      "cell_type": "code",
      "metadata": {
        "colab": {
          "base_uri": "https://localhost:8080/"
        },
        "id": "xgV2m_GK-LmT",
        "outputId": "70e4b9ce-a10a-404c-abb4-729a7df02878"
      },
      "source": [
        "aList = [4, 8, 12, 16] # 4=0.indis, 8=1.indis, 12=2, 16=3\n",
        "aList[1:4] = [20, 24, 28]# 1=20, 2=24,3=28\n",
        "print(aList)"
      ],
      "execution_count": null,
      "outputs": [
        {
          "output_type": "stream",
          "text": [
            "[4, 20, 24, 28]\n"
          ],
          "name": "stdout"
        }
      ]
    },
    {
      "cell_type": "code",
      "metadata": {
        "colab": {
          "base_uri": "https://localhost:8080/"
        },
        "id": "4fWgYC5Z-Sum",
        "outputId": "2dadd3a5-d5ad-4510-b2d5-285922305684"
      },
      "source": [
        "aList = [10, 20, 30, 40, 50, 60, 70, 80]\n",
        "print(aList[2:5])\n",
        "print(aList[:4])\n",
        "print(aList[3:])"
      ],
      "execution_count": null,
      "outputs": [
        {
          "output_type": "stream",
          "text": [
            "[30, 40, 50]\n",
            "[10, 20, 30, 40]\n",
            "[40, 50, 60, 70, 80]\n"
          ],
          "name": "stdout"
        }
      ]
    },
    {
      "cell_type": "code",
      "metadata": {
        "colab": {
          "base_uri": "https://localhost:8080/"
        },
        "id": "58wnSAPg-UoI",
        "outputId": "0765309c-6207-4138-8864-4ea2ec6b4f92"
      },
      "source": [
        "str1 = \"Merhaba\"# M=0.indis , a=-1.indis oluyor..\n",
        "print(str1[1:4], str1[:5], str1[4:], str1[0:-2], str1[:-1])"
      ],
      "execution_count": null,
      "outputs": [
        {
          "output_type": "stream",
          "text": [
            "erh Merha aba Merha Merhab Merhaba\n"
          ],
          "name": "stdout"
        }
      ]
    },
    {
      "cell_type": "code",
      "metadata": {
        "colab": {
          "base_uri": "https://localhost:8080/"
        },
        "id": "K6hR6SCXKYCk",
        "outputId": "6a05e974-0d24-4b39-e023-21f3ee70f00a"
      },
      "source": [
        "hafta_ici=[\"pazartesi\",\"salı\",\"çarşamba\",\"perşembe\",\"cuma\"]\n",
        "\n",
        "print(\"cuma\" in hafta_ici)\n",
        "print(\"cumartesi\" in hafta_ici)"
      ],
      "execution_count": null,
      "outputs": [
        {
          "output_type": "stream",
          "text": [
            "True\n",
            "False\n"
          ],
          "name": "stdout"
        }
      ]
    },
    {
      "cell_type": "code",
      "metadata": {
        "colab": {
          "base_uri": "https://localhost:8080/"
        },
        "id": "cWnwpC35VS0h",
        "outputId": "6945bc15-c58f-4230-e0e6-bffdb3778e59"
      },
      "source": [
        "hafta_ici=[\"pazartesi\",\"salı\",\"çarşamba\",\"perşembe\",\"cuma\"]\n",
        "if \"cumartesi\" in hafta_ici:\n",
        "  print('Listede var...')\n",
        "else:\n",
        "  print('Listede yok..')\n",
        "\n",
        "kontrol=0\n",
        "for gun in hafta_ici:\n",
        "  if gun==\"cumartesi\":\n",
        "    kontrol=1\n",
        "if kontrol==1:\n",
        "  print('Aranan gün var..')\n",
        "else:\n",
        "  print('Aranan gün yok..')"
      ],
      "execution_count": null,
      "outputs": [
        {
          "output_type": "stream",
          "text": [
            "Listede yok..\n",
            "Aranan gün yok..\n"
          ],
          "name": "stdout"
        }
      ]
    },
    {
      "cell_type": "code",
      "metadata": {
        "colab": {
          "base_uri": "https://localhost:8080/"
        },
        "id": "DgwAReTn-YUz",
        "outputId": "cbe423b1-ed0b-499a-e724-3a987aa256e7"
      },
      "source": [
        "sampleList = [10, 20, 30, 40, 50]\n",
        "sampleList.append(60)\n",
        "print(sampleList)\n",
        "\n",
        "sampleList.append(60)\n",
        "print(sampleList)"
      ],
      "execution_count": null,
      "outputs": [
        {
          "output_type": "stream",
          "text": [
            "[10, 20, 30, 40, 50, 60]\n",
            "[10, 20, 30, 40, 50, 60, 60]\n"
          ],
          "name": "stdout"
        }
      ]
    },
    {
      "cell_type": "code",
      "metadata": {
        "colab": {
          "base_uri": "https://localhost:8080/"
        },
        "id": "tr90qUQC_HMt",
        "outputId": "392810cf-cdfc-4617-e53c-159f635cc0ce"
      },
      "source": [
        "for index, item in enumerate(['one', 'two', 'three', 'four']):\n",
        "  print(index, '::', item)"
      ],
      "execution_count": null,
      "outputs": [
        {
          "output_type": "stream",
          "text": [
            "0 :: one\n",
            "1 :: two\n",
            "2 :: three\n",
            "3 :: four\n"
          ],
          "name": "stdout"
        }
      ]
    },
    {
      "cell_type": "code",
      "metadata": {
        "colab": {
          "base_uri": "https://localhost:8080/"
        },
        "id": "_VLGkMjfALL9",
        "outputId": "e117f9c4-43d9-4462-d84e-3676f1271128"
      },
      "source": [
        "[s.upper() for s in \"Hello World\"]\n"
      ],
      "execution_count": null,
      "outputs": [
        {
          "output_type": "execute_result",
          "data": {
            "text/plain": [
              "['H', 'E', 'L', 'L', 'O', ' ', 'W', 'O', 'R', 'L', 'D']"
            ]
          },
          "metadata": {
            "tags": []
          },
          "execution_count": 10
        }
      ]
    },
    {
      "cell_type": "code",
      "metadata": {
        "colab": {
          "base_uri": "https://localhost:8080/"
        },
        "id": "0wWm7sZnBu6I",
        "outputId": "62a37f17-a4ad-4d68-ffe2-9f9ff9eb8897"
      },
      "source": [
        " [x for x in range(10) if x % 2 == 1]"
      ],
      "execution_count": null,
      "outputs": [
        {
          "output_type": "execute_result",
          "data": {
            "text/plain": [
              "[1, 3, 5, 7, 9]"
            ]
          },
          "metadata": {
            "tags": []
          },
          "execution_count": 40
        }
      ]
    },
    {
      "cell_type": "code",
      "metadata": {
        "colab": {
          "base_uri": "https://localhost:8080/"
        },
        "id": "p6LslC7WBx7A",
        "outputId": "b5426eb6-50d8-42cb-8624-fa4c72143aac"
      },
      "source": [
        "even_numbers = []\n",
        "for x in range(10): \n",
        "  if x % 2 == 0:\n",
        "    even_numbers.append(x)\n",
        "print(even_numbers)"
      ],
      "execution_count": null,
      "outputs": [
        {
          "output_type": "stream",
          "text": [
            "[0, 2, 4, 6, 8]\n"
          ],
          "name": "stdout"
        }
      ]
    },
    {
      "cell_type": "code",
      "metadata": {
        "colab": {
          "base_uri": "https://localhost:8080/"
        },
        "id": "7oZBfRrpXzes",
        "outputId": "26ae87f7-e171-4781-d203-8e4ff2d7e401"
      },
      "source": [
        "even_numbers = []\n",
        "[even_numbers.append(x) for x in range(10) if x % 2 == 0]\n",
        "print(even_numbers)"
      ],
      "execution_count": null,
      "outputs": [
        {
          "output_type": "stream",
          "text": [
            "[0, 2, 4, 6, 8]\n"
          ],
          "name": "stdout"
        }
      ]
    },
    {
      "cell_type": "code",
      "metadata": {
        "colab": {
          "base_uri": "https://localhost:8080/"
        },
        "id": "oP0zLynsB-ON",
        "outputId": "285dcf85-1a35-40cc-9c90-e7cecb796e89"
      },
      "source": [
        " [x if x % 2 == 0 else None for x in range(10)]"
      ],
      "execution_count": null,
      "outputs": [
        {
          "output_type": "execute_result",
          "data": {
            "text/plain": [
              "[0, None, 2, None, 4, None, 6, None, 8, None]"
            ]
          },
          "metadata": {
            "tags": []
          },
          "execution_count": 47
        }
      ]
    },
    {
      "cell_type": "code",
      "metadata": {
        "colab": {
          "base_uri": "https://localhost:8080/"
        },
        "id": "A28xdTNxDPuI",
        "outputId": "cf17f23a-cf04-4ed6-ac42-814e5248ca4a"
      },
      "source": [
        "names = ['Fred', 'Wilma', 'Barney','Moloztaş','Çakmaktaş']\n",
        "def long_name(name): \n",
        "  return len(name) > 5\n",
        "list(filter(long_name, names))"
      ],
      "execution_count": null,
      "outputs": [
        {
          "output_type": "execute_result",
          "data": {
            "text/plain": [
              "['Barney', 'Moloztaş', 'Çakmaktaş']"
            ]
          },
          "metadata": {
            "tags": []
          },
          "execution_count": 52
        }
      ]
    },
    {
      "cell_type": "code",
      "metadata": {
        "colab": {
          "base_uri": "https://localhost:8080/"
        },
        "id": "Wxo29DSWJsv5",
        "outputId": "f5b8f115-3c44-4c0f-e0b6-839f7f4b9a65"
      },
      "source": [
        "sayilar = [18,22,15,85,65,30,10,20,32,34,28,101,5,4,32]\n",
        "sayac=0 \n",
        "for sayi in sayilar:\n",
        "   if sayi%5 == 0:\n",
        "      print (str(sayi)+ (\" : 5'in katıdır.\"))\n",
        "      sayac=sayac+1 \n",
        "else:\n",
        "   print ('Döngü Bitti')\n",
        "print(\"5'in katı olan sayı adeti : \"+str(sayac))\n",
        "\"\"\"\n",
        "1-bolum fonk. 5'e bölünüp bölünmediğini inceleyecek.\n",
        "2-filter kullanılarak 5'e bölünenlerin listesini verecek..."
      ],
      "execution_count": null,
      "outputs": [
        {
          "output_type": "stream",
          "text": [
            "15 : 5'in katıdır.\n",
            "85 : 5'in katıdır.\n",
            "65 : 5'in katıdır.\n",
            "30 : 5'in katıdır.\n",
            "10 : 5'in katıdır.\n",
            "20 : 5'in katıdır.\n",
            "5 : 5'in katıdır.\n",
            "Döngü Bitti\n",
            "5'in katı olan sayı adeti : 7\n"
          ],
          "name": "stdout"
        }
      ]
    },
    {
      "cell_type": "code",
      "metadata": {
        "colab": {
          "base_uri": "https://localhost:8080/"
        },
        "id": "ceTPXdCOJ18a",
        "outputId": "c373ab4a-de1f-41e1-b9d2-8f5720934bf0"
      },
      "source": [
        "def kontrol(str,karakter):\n",
        "  #sayac = 0\n",
        "  for ch in str:\n",
        "    if ch == karakter:\n",
        "      #sayac = sayac + 1\n",
        "      return True\n",
        "      break\n",
        "    \n",
        " \n",
        "metin=input('Metin : ')\n",
        "krktr=input('Aranacak Karakteri : ')\n",
        "if(kontrol(metin,krktr)==True):\n",
        "      print('Aranan karakter metin içinde var')\n",
        "else:\n",
        "      print('Aranan karakter metin içinde yok')"
      ],
      "execution_count": null,
      "outputs": [
        {
          "output_type": "stream",
          "text": [
            "Metin : Bilgisayar\n",
            "Aranacak Karakteri : a\n",
            "Aranan karakter metin içinde var\n"
          ],
          "name": "stdout"
        }
      ]
    },
    {
      "cell_type": "code",
      "metadata": {
        "colab": {
          "base_uri": "https://localhost:8080/"
        },
        "id": "OE5G3hVuKI3q",
        "outputId": "22f8bb01-1ce8-482b-c0bc-2dc4fe80840f"
      },
      "source": [
        "tekAdet=0\n",
        "ciftAdet=0\n",
        "tekToplam=0\n",
        "ciftToplam=0\n",
        " \n",
        "n=int(input(\"Kaç Adet Sayı Girilecek : \"))\n",
        "for i in range(n):\n",
        "    sayi=int(input(\"Sayı : \"))\n",
        "    if(sayi%2==1):\n",
        "        tekAdet+=1\n",
        "        tekToplam+=sayi\n",
        "    else:\n",
        "        ciftAdet+=1\n",
        "        ciftToplam+=sayi\n",
        "if(tekAdet!=0):#Eğer hiç tek sayı girilmemişse 0'a bölme hatası verecektir.\n",
        "    print(\"Tek Sayıların Ortalaması : \",tekToplam/tekAdet)\n",
        "if(ciftAdet!=0):#Eğer hiç çift sayı girilmemişse 0'a bölme hatası verecektir.\n",
        "    print(\"Çift Sayıların Ortalaması : \",ciftToplam/ciftAdet)"
      ],
      "execution_count": null,
      "outputs": [
        {
          "output_type": "stream",
          "text": [
            "Kaç Adet Sayı Girilecek : 3\n",
            "Sayı : 10\n",
            "Sayı : 15\n",
            "Sayı : 25\n",
            "Tek Sayıların Ortalaması :  20.0\n",
            "Çift Sayıların Ortalaması :  10.0\n"
          ],
          "name": "stdout"
        }
      ]
    }
  ]
}