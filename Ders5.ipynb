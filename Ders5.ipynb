{
  "nbformat": 4,
  "nbformat_minor": 0,
  "metadata": {
    "colab": {
      "name": "Ders5.ipynb",
      "provenance": [],
      "collapsed_sections": [],
      "authorship_tag": "ABX9TyNocsTlaoJarsW5lVEQzxU/",
      "include_colab_link": true
    },
    "kernelspec": {
      "name": "python3",
      "display_name": "Python 3"
    }
  },
  "cells": [
    {
      "cell_type": "markdown",
      "metadata": {
        "id": "view-in-github",
        "colab_type": "text"
      },
      "source": [
        "<a href=\"https://colab.research.google.com/github/VolkanAltintas/Python-Dersleri/blob/master/Ders5.ipynb\" target=\"_parent\"><img src=\"https://colab.research.google.com/assets/colab-badge.svg\" alt=\"Open In Colab\"/></a>"
      ]
    },
    {
      "cell_type": "code",
      "metadata": {
        "id": "fhJvReeQwyAa"
      },
      "source": [
        "#def fonksiyon_ismi(varsa parametre)\n",
        "def fonk(): \n",
        "  print('Merhaba')\n"
      ],
      "execution_count": null,
      "outputs": []
    },
    {
      "cell_type": "code",
      "metadata": {
        "id": "Vtct5gY2Vaxb",
        "outputId": "f57dc47b-92dd-49fc-e9ec-cfe03157babc",
        "colab": {
          "base_uri": "https://localhost:8080/"
        }
      },
      "source": [
        "fonk()"
      ],
      "execution_count": null,
      "outputs": [
        {
          "output_type": "stream",
          "text": [
            "Merhaba\n"
          ],
          "name": "stdout"
        }
      ]
    },
    {
      "cell_type": "code",
      "metadata": {
        "id": "LFZ_0W4sw547"
      },
      "source": [
        "def fonk2(): \n",
        "  pass\n",
        "fonk2()"
      ],
      "execution_count": null,
      "outputs": []
    },
    {
      "cell_type": "code",
      "metadata": {
        "id": "8OoHlEsjw9R-",
        "outputId": "94a994cb-c725-4f04-b459-11fec897575d",
        "colab": {
          "base_uri": "https://localhost:8080/"
        }
      },
      "source": [
        "x = 'Merhaba Dünya' #Global olarak tanımlanmış\n",
        "def yazdir():\n",
        "    print(x)\n",
        "yazdir()"
      ],
      "execution_count": null,
      "outputs": [
        {
          "output_type": "stream",
          "text": [
            "Merhaba Dünya\n"
          ],
          "name": "stdout"
        }
      ]
    },
    {
      "cell_type": "code",
      "metadata": {
        "id": "XTZhuVahxCB7",
        "outputId": "7ead2ef0-18ee-498a-acd2-478076657f5f",
        "colab": {
          "base_uri": "https://localhost:8080/",
          "height": 198
        }
      },
      "source": [
        "def yazdir(): \n",
        "  y = 'Merhaba Dünya' #lokal olarak tanımlanmış\n",
        "    \n",
        "yazdir()\n",
        "print(y)"
      ],
      "execution_count": null,
      "outputs": [
        {
          "output_type": "error",
          "ename": "NameError",
          "evalue": "ignored",
          "traceback": [
            "\u001b[0;31m---------------------------------------------------------------------------\u001b[0m",
            "\u001b[0;31mNameError\u001b[0m                                 Traceback (most recent call last)",
            "\u001b[0;32m<ipython-input-11-96ebd9f48eb7>\u001b[0m in \u001b[0;36m<module>\u001b[0;34m()\u001b[0m\n\u001b[1;32m      3\u001b[0m \u001b[0;34m\u001b[0m\u001b[0m\n\u001b[1;32m      4\u001b[0m \u001b[0myazdir\u001b[0m\u001b[0;34m(\u001b[0m\u001b[0;34m)\u001b[0m\u001b[0;34m\u001b[0m\u001b[0;34m\u001b[0m\u001b[0m\n\u001b[0;32m----> 5\u001b[0;31m \u001b[0mprint\u001b[0m\u001b[0;34m(\u001b[0m\u001b[0my\u001b[0m\u001b[0;34m)\u001b[0m\u001b[0;34m\u001b[0m\u001b[0;34m\u001b[0m\u001b[0m\n\u001b[0m",
            "\u001b[0;31mNameError\u001b[0m: name 'y' is not defined"
          ]
        }
      ]
    },
    {
      "cell_type": "code",
      "metadata": {
        "id": "eClLuPhNWv9F",
        "outputId": "4f5782c5-f0d2-4119-9a70-c70780f92ad5",
        "colab": {
          "base_uri": "https://localhost:8080/"
        }
      },
      "source": [
        "def topla(a=1,b=1):\n",
        "  sonuc = a+b\n",
        "  return sonuc\n",
        "\n",
        "x=input('Bir sayı giriniz...')#3\n",
        "y=input('Bir Sayı giriniz....')#5\n",
        "print(topla(int(x),int(y)))"
      ],
      "execution_count": null,
      "outputs": [
        {
          "output_type": "stream",
          "text": [
            "Bir sayı giriniz...3\n",
            "Bir Sayı giriniz....5\n",
            "8\n"
          ],
          "name": "stdout"
        }
      ]
    },
    {
      "cell_type": "code",
      "metadata": {
        "id": "VjZvP4YioREX",
        "outputId": "567fe937-2d7a-4206-80d6-c8d4be62dbba",
        "colab": {
          "base_uri": "https://localhost:8080/"
        }
      },
      "source": [
        "for i in range(1,21):\n",
        "  if i%2==0:\n",
        "    print(i)"
      ],
      "execution_count": null,
      "outputs": [
        {
          "output_type": "stream",
          "text": [
            "2\n",
            "4\n",
            "6\n",
            "8\n",
            "10\n",
            "12\n",
            "14\n",
            "16\n",
            "18\n",
            "20\n"
          ],
          "name": "stdout"
        }
      ]
    },
    {
      "cell_type": "code",
      "metadata": {
        "id": "QPOWP7OyoV7V",
        "outputId": "1313f528-5714-4a57-b0b9-576dbdb078dd",
        "colab": {
          "base_uri": "https://localhost:8080/"
        }
      },
      "source": [
        "for i in range(1,21):\n",
        "  if i%2!=0: #if(i%2==1)\n",
        "    print(i)"
      ],
      "execution_count": null,
      "outputs": [
        {
          "output_type": "stream",
          "text": [
            "1\n",
            "3\n",
            "5\n",
            "7\n",
            "9\n",
            "11\n",
            "13\n",
            "15\n",
            "17\n",
            "19\n"
          ],
          "name": "stdout"
        }
      ]
    },
    {
      "cell_type": "code",
      "metadata": {
        "id": "fK0lWAP-ocgP",
        "outputId": "82dbcdd2-ed4c-4f98-b6a0-7c130485c5a3",
        "colab": {
          "base_uri": "https://localhost:8080/"
        }
      },
      "source": [
        "for i in range(1,101):\n",
        "  if i%3==0 and i%5==0:\n",
        "    print(i)"
      ],
      "execution_count": null,
      "outputs": [
        {
          "output_type": "stream",
          "text": [
            "15\n",
            "30\n",
            "45\n",
            "60\n",
            "75\n",
            "90\n"
          ],
          "name": "stdout"
        }
      ]
    },
    {
      "cell_type": "code",
      "metadata": {
        "id": "2XPih8B6okTB",
        "outputId": "446c51a3-0ca1-4e98-b2b5-1a5df3641390",
        "colab": {
          "base_uri": "https://localhost:8080/"
        }
      },
      "source": [
        "sayi=input('Sayıyı Gir : ')\n",
        "for i in range(1,int(sayi)+1):#1,10+1\n",
        "        print(i)"
      ],
      "execution_count": null,
      "outputs": [
        {
          "output_type": "stream",
          "text": [
            "Sayıyı Gir : 10\n",
            "1\n",
            "2\n",
            "3\n",
            "4\n",
            "5\n",
            "6\n",
            "7\n",
            "8\n",
            "9\n",
            "10\n"
          ],
          "name": "stdout"
        }
      ]
    },
    {
      "cell_type": "code",
      "metadata": {
        "id": "Zrk7fp5qorOZ",
        "outputId": "18c94daf-c95f-4015-9aca-aed018d11bcd",
        "colab": {
          "base_uri": "https://localhost:8080/"
        }
      },
      "source": [
        "def dikdortgenAlan(genislik, yukseklik):\n",
        "  alan = float(genislik) * float(yukseklik)\n",
        "  print (\"Alan :\",alan)\n",
        "  return alan\n",
        " \n",
        "genislik = input(\"Genişlik :\")\n",
        "yukseklik = input(\"Yükseklik : \")\n",
        " \n",
        "dikdortgenAlan(genislik, yukseklik)"
      ],
      "execution_count": null,
      "outputs": [
        {
          "output_type": "stream",
          "text": [
            "Genişlik :3.2\n",
            "Yükseklik : 4\n",
            "Alan : 12.8\n"
          ],
          "name": "stdout"
        },
        {
          "output_type": "execute_result",
          "data": {
            "text/plain": [
              "12.8"
            ]
          },
          "metadata": {
            "tags": []
          },
          "execution_count": 33
        }
      ]
    },
    {
      "cell_type": "code",
      "metadata": {
        "id": "M3PZKmWSpCdm",
        "outputId": "1f82f976-f79c-4803-cd07-5774ac4e8d2c",
        "colab": {
          "base_uri": "https://localhost:8080/"
        }
      },
      "source": [
        "def ciftMi(x): \n",
        "    return x % 2 == 0 #ikiye bölümden kalan 0'mı? Evetse True, Değilse False\n",
        " \n",
        "toplam=0\n",
        "sayac=0\n",
        "baslangic = input(\"Başlangıç Sayısı :\")\n",
        "bitis = input(\"Bitiş Sayısı :\")\n",
        "for sayi in range (int(baslangic), int(bitis)+1):\n",
        "    if(ciftMi(int(sayi))): #if(sayi%2==0)\n",
        "        toplam=toplam+sayi\n",
        "        sayac=sayac+1\n",
        "print('Ortalama',(toplam/sayac))"
      ],
      "execution_count": null,
      "outputs": [
        {
          "output_type": "stream",
          "text": [
            "Başlangıç Sayısı :5\n",
            "Bitiş Sayısı :10\n",
            "Ortalama 8.0\n"
          ],
          "name": "stdout"
        }
      ]
    },
    {
      "cell_type": "code",
      "metadata": {
        "id": "Qa0tvtyGpprZ",
        "outputId": "fe60e466-38de-4283-b992-473338de1d21",
        "colab": {
          "base_uri": "https://localhost:8080/"
        }
      },
      "source": [
        "from random import randint\n",
        " \n",
        "rand=randint(1, 100)#45\n",
        "sayac=0\n",
        " \n",
        "while True:\n",
        "    sayac+=1\n",
        "    sayi=int(input(\"1 ile 100 arasında değer girin (0 Çıkış):\"))#45\n",
        "    if(sayi==0):\n",
        "        print(\"Oyunu İptal Ettiniz\")\n",
        "        break\n",
        "    elif sayi < rand:\n",
        "        print(\"Daha Yüksek Bir Sayı Girin.\")\n",
        "        continue\n",
        "    elif sayi > rand:\n",
        "        print(\"Daha Düşük Bir Sayı Girin.\")\n",
        "        continue\n",
        "    else:\n",
        "        print(\"Rastele seçilen sayı {0}!\".format(rand))\n",
        "        print(\"Tahmin sayınız {0}\".format(sayac))"
      ],
      "execution_count": null,
      "outputs": [
        {
          "output_type": "stream",
          "text": [
            "1 ile 100 arasında değer girin (0 Çıkış):50\n",
            "Daha Yüksek Bir Sayı Girin.\n",
            "1 ile 100 arasında değer girin (0 Çıkış):75\n",
            "Daha Düşük Bir Sayı Girin.\n",
            "1 ile 100 arasında değer girin (0 Çıkış):63\n",
            "Daha Düşük Bir Sayı Girin.\n",
            "1 ile 100 arasında değer girin (0 Çıkış):56\n",
            "Daha Düşük Bir Sayı Girin.\n",
            "1 ile 100 arasında değer girin (0 Çıkış):53\n",
            "Daha Düşük Bir Sayı Girin.\n",
            "1 ile 100 arasında değer girin (0 Çıkış):52\n",
            "Rastele seçilen sayı 52!\n",
            "Tahmin sayınız 6\n",
            "1 ile 100 arasında değer girin (0 Çıkış):0\n",
            "Oyunu İptal Ettiniz\n"
          ],
          "name": "stdout"
        }
      ]
    }
  ]
}