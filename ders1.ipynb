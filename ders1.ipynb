{
  "nbformat": 4,
  "nbformat_minor": 0,
  "metadata": {
    "colab": {
      "name": "ders1.ipynb",
      "provenance": []
    },
    "kernelspec": {
      "name": "python3",
      "display_name": "Python 3"
    }
  },
  "cells": [
    {
      "cell_type": "code",
      "metadata": {
        "id": "k8MOq1YJNcYL",
        "outputId": "920f042d-12c7-449a-989f-59af3da61cdd",
        "colab": {
          "base_uri": "https://localhost:8080/"
        }
      },
      "source": [
        "print(\"Merhaba Dünya\")"
      ],
      "execution_count": null,
      "outputs": [
        {
          "output_type": "stream",
          "text": [
            "Merhaba Dünya\n"
          ],
          "name": "stdout"
        }
      ]
    },
    {
      "cell_type": "markdown",
      "metadata": {
        "id": "x8stKm13S3ZA"
      },
      "source": [
        "**Ekran çıktısı almak için kullanılır...**"
      ]
    },
    {
      "cell_type": "code",
      "metadata": {
        "id": "3tAeA6WmNpKr",
        "outputId": "e919f9f7-a2d1-4e57-83e8-99d1a4f02692",
        "colab": {
          "base_uri": "https://localhost:8080/"
        }
      },
      "source": [
        "ad = \"Volkan Altıntaş\"\n",
        "print(ad)\n",
        "sayi=35\n",
        "Sayi=45\n",
        "print(sayi)\n",
        "#int sayi=35; c#\n",
        "#string ad=\"Volkan Altıntaş\";  .py"
      ],
      "execution_count": null,
      "outputs": [
        {
          "output_type": "stream",
          "text": [
            "Volkan Altıntaş\n",
            "35\n"
          ],
          "name": "stdout"
        }
      ]
    },
    {
      "cell_type": "code",
      "metadata": {
        "id": "yT0cMFwNN9vC",
        "outputId": "49097952-47ee-4cd5-ed67-051fd1798e67",
        "colab": {
          "base_uri": "https://localhost:8080/"
        }
      },
      "source": [
        "print(\"ad değişkenin türü:\",type(ad))\n",
        "print(\"sayi değişkenin türü:\",type(sayi))"
      ],
      "execution_count": null,
      "outputs": [
        {
          "output_type": "stream",
          "text": [
            "ad değişkenin türü: <class 'str'>\n",
            "sayi değişkenin türü: <class 'int'>\n"
          ],
          "name": "stdout"
        }
      ]
    },
    {
      "cell_type": "code",
      "metadata": {
        "id": "JI5JTEorPfI6",
        "outputId": "e600f670-07bd-4203-84dc-8101eef4857e",
        "colab": {
          "base_uri": "https://localhost:8080/"
        }
      },
      "source": [
        "harfler=\"abcdef\" #string\n",
        "print(harfler.upper())\n",
        "print(\"abcdef\".upper())"
      ],
      "execution_count": null,
      "outputs": [
        {
          "output_type": "stream",
          "text": [
            "ABCDEF\n",
            "ABCDEF\n"
          ],
          "name": "stdout"
        }
      ]
    },
    {
      "cell_type": "code",
      "metadata": {
        "id": "3SDPYeOmP1nK",
        "outputId": "b229b3f5-419f-4686-f9af-32beaa29d52c",
        "colab": {
          "base_uri": "https://localhost:8080/"
        }
      },
      "source": [
        "dir(harfler)"
      ],
      "execution_count": null,
      "outputs": [
        {
          "output_type": "execute_result",
          "data": {
            "text/plain": [
              "['__add__',\n",
              " '__class__',\n",
              " '__contains__',\n",
              " '__delattr__',\n",
              " '__dir__',\n",
              " '__doc__',\n",
              " '__eq__',\n",
              " '__format__',\n",
              " '__ge__',\n",
              " '__getattribute__',\n",
              " '__getitem__',\n",
              " '__getnewargs__',\n",
              " '__gt__',\n",
              " '__hash__',\n",
              " '__init__',\n",
              " '__init_subclass__',\n",
              " '__iter__',\n",
              " '__le__',\n",
              " '__len__',\n",
              " '__lt__',\n",
              " '__mod__',\n",
              " '__mul__',\n",
              " '__ne__',\n",
              " '__new__',\n",
              " '__reduce__',\n",
              " '__reduce_ex__',\n",
              " '__repr__',\n",
              " '__rmod__',\n",
              " '__rmul__',\n",
              " '__setattr__',\n",
              " '__sizeof__',\n",
              " '__str__',\n",
              " '__subclasshook__',\n",
              " 'capitalize',\n",
              " 'casefold',\n",
              " 'center',\n",
              " 'count',\n",
              " 'encode',\n",
              " 'endswith',\n",
              " 'expandtabs',\n",
              " 'find',\n",
              " 'format',\n",
              " 'format_map',\n",
              " 'index',\n",
              " 'isalnum',\n",
              " 'isalpha',\n",
              " 'isdecimal',\n",
              " 'isdigit',\n",
              " 'isidentifier',\n",
              " 'islower',\n",
              " 'isnumeric',\n",
              " 'isprintable',\n",
              " 'isspace',\n",
              " 'istitle',\n",
              " 'isupper',\n",
              " 'join',\n",
              " 'ljust',\n",
              " 'lower',\n",
              " 'lstrip',\n",
              " 'maketrans',\n",
              " 'partition',\n",
              " 'replace',\n",
              " 'rfind',\n",
              " 'rindex',\n",
              " 'rjust',\n",
              " 'rpartition',\n",
              " 'rsplit',\n",
              " 'rstrip',\n",
              " 'split',\n",
              " 'splitlines',\n",
              " 'startswith',\n",
              " 'strip',\n",
              " 'swapcase',\n",
              " 'title',\n",
              " 'translate',\n",
              " 'upper',\n",
              " 'zfill']"
            ]
          },
          "metadata": {
            "tags": []
          },
          "execution_count": 18
        }
      ]
    },
    {
      "cell_type": "code",
      "metadata": {
        "id": "yXKEkLtXQIEF",
        "outputId": "e4d8eb3d-a1ba-4a23-e43b-928320b26d35",
        "colab": {
          "base_uri": "https://localhost:8080/"
        }
      },
      "source": [
        "Ad=input(\"Lütfen Adınızı Giriniz:\")\n",
        "Soyad=input(\"Soyadınızı Giriniz:\")\n",
        "print(\"Merhaba\",Ad, Soyad)\n",
        "print(\"Merhaba {} {}\".format(Ad,Soyad))"
      ],
      "execution_count": null,
      "outputs": [
        {
          "output_type": "stream",
          "text": [
            "Lütfen Adınızı Giriniz:Volkan\n",
            "Soyadınızı Giriniz:Altıntaş\n",
            "Merhaba Volkan Altıntaş\n",
            "Merhaba Volkan Altıntaş\n"
          ],
          "name": "stdout"
        }
      ]
    },
    {
      "cell_type": "code",
      "metadata": {
        "id": "FiHCHjb-Q3nP",
        "outputId": "8b03dba4-883e-4148-bb2e-3f97f735cdf8",
        "colab": {
          "base_uri": "https://localhost:8080/"
        }
      },
      "source": [
        "sayi1=int(input(\"Sayı giriniz:\"))#str 20\n",
        "sayi2=int(input(\"Sayı giriniz:\"))#str 10\n",
        "\n",
        "toplam=sayi1+sayi2\n",
        "print(toplam)"
      ],
      "execution_count": null,
      "outputs": [
        {
          "output_type": "stream",
          "text": [
            "Sayı giriniz:20\n",
            "Sayı giriniz:25\n",
            "45\n"
          ],
          "name": "stdout"
        }
      ]
    }
  ]
}